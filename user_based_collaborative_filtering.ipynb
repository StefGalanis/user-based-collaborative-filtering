{
 "cells": [
  {
   "cell_type": "markdown",
   "metadata": {},
   "source": [
    "Ανοίγω το αρχείο κάνω mapping και ταυτόχρονα γεμίζω τα διανύσματα που θα χρησιμοποιήσω για να φτιάξω τον sparse πίνακα"
   ]
  },
  {
   "cell_type": "code",
   "execution_count": 1,
   "metadata": {
    "tags": []
   },
   "outputs": [],
   "source": [
    "ratingsFile = open('pruned_data.csv',encoding = 'utf8',errors='ignore')\n",
    "users = {}\n",
    "business = {}\n",
    "user_counter = 0\n",
    "business_counter = 0\n",
    "row = []\n",
    "col = []\n",
    "data = []\n",
    "for line in ratingsFile:\n",
    "    lineValues = line.split(',')\n",
    "    user_id = lineValues[0]\n",
    "    business_id = lineValues[1]\n",
    "    rating = float(lineValues[2])\n",
    "    data.append(rating)\n",
    "    if user_id not in users:\n",
    "        row.append(user_counter)\n",
    "        users[user_id] = user_counter\n",
    "        user_counter += 1\n",
    "    else:\n",
    "        row_number = users[user_id]\n",
    "        row.append(row_number)\n",
    "    if business_id not in business:\n",
    "        col.append(business_counter)\n",
    "        business[business_id] = business_counter\n",
    "        business_counter += 1\n",
    "    else:\n",
    "        col_number = business[business_id]\n",
    "        col.append(col_number)\n",
    "ratingsFile.close()"
   ]
  },
  {
   "cell_type": "markdown",
   "metadata": {},
   "source": [
    "Δημιουργώ τον sparse πίνακα με βάση τα row col και data διανύσματα που έβγαλα από το αρχείο"
   ]
  },
  {
   "cell_type": "code",
   "execution_count": 3,
   "metadata": {
    "tags": []
   },
   "outputs": [
    {
     "name": "stdout",
     "output_type": "stream",
     "text": [
      "[   0    1    2 ...  767 1189 3023]\n",
      "[   0    0    0 ... 4793 4793 4793]\n",
      "  (0, 0)\t4.0\n",
      "  (0, 1)\t4.0\n",
      "  (0, 2)\t5.0\n",
      "  (0, 3)\t4.0\n",
      "  (0, 4)\t4.0\n",
      "  (0, 5)\t5.0\n",
      "  (0, 6)\t4.0\n",
      "  (0, 7)\t4.0\n",
      "  (0, 8)\t2.0\n",
      "  (0, 9)\t5.0\n",
      "  (0, 10)\t5.0\n",
      "  (0, 11)\t4.0\n",
      "  (0, 12)\t5.0\n",
      "  (0, 13)\t4.0\n",
      "  (0, 14)\t4.0\n",
      "  (0, 15)\t4.0\n",
      "  (0, 16)\t2.0\n",
      "  (0, 17)\t3.0\n",
      "  (0, 18)\t4.0\n",
      "  (0, 19)\t4.0\n",
      "  (0, 20)\t5.0\n",
      "  (0, 21)\t3.0\n",
      "  (0, 22)\t4.0\n",
      "  (0, 23)\t4.0\n",
      "  (0, 24)\t4.0\n",
      "  :\t:\n",
      "  (4792, 2322)\t4.0\n",
      "  (4792, 2423)\t5.0\n",
      "  (4792, 2741)\t4.0\n",
      "  (4792, 2845)\t2.0\n",
      "  (4792, 2982)\t5.0\n",
      "  (4792, 3138)\t3.0\n",
      "  (4793, 40)\t5.0\n",
      "  (4793, 63)\t5.0\n",
      "  (4793, 414)\t3.0\n",
      "  (4793, 767)\t5.0\n",
      "  (4793, 814)\t4.0\n",
      "  (4793, 916)\t3.0\n",
      "  (4793, 972)\t4.0\n",
      "  (4793, 1076)\t5.0\n",
      "  (4793, 1189)\t1.0\n",
      "  (4793, 1634)\t3.0\n",
      "  (4793, 1928)\t2.0\n",
      "  (4793, 2218)\t5.0\n",
      "  (4793, 2388)\t4.0\n",
      "  (4793, 2593)\t5.0\n",
      "  (4793, 2995)\t3.0\n",
      "  (4793, 3023)\t5.0\n",
      "  (4793, 3068)\t5.0\n",
      "  (4793, 3429)\t5.0\n",
      "  (4793, 3893)\t3.0\n",
      "[[4. 4. 5. ... 0. 0. 0.]\n",
      " [0. 0. 0. ... 0. 0. 0.]\n",
      " [0. 0. 0. ... 0. 0. 0.]\n",
      " ...\n",
      " [0. 0. 0. ... 0. 0. 0.]\n",
      " [0. 0. 0. ... 0. 0. 0.]\n",
      " [0. 0. 0. ... 0. 0. 0.]]\n"
     ]
    }
   ],
   "source": [
    "import scipy.sparse as sp_sparse\n",
    "import numpy as np\n",
    "row = np.array(row)\n",
    "col = np.array(col)\n",
    "data = np.array(data)\n",
    "M = sp_sparse.csr_matrix((data,(row,col)),shape=(len(users),len(business)))"
   ]
  },
  {
   "cell_type": "markdown",
   "metadata": {},
   "source": [
    "Διαλέγω τυχαία 5% του συνόλου των μη μηδενικών μετρήσεων και αφαιρώ μη μηδενικά κελιά του πίνακα μηδενίζοντας τα"
   ]
  },
  {
   "cell_type": "code",
   "execution_count": null,
   "metadata": {
    "tags": [
     "outputPrepend"
    ]
   },
   "outputs": [],
   "source": [
    "from scipy.sparse import csr_matrix\n",
    "import random\n",
    "non_zero_cells = csr_matrix.nonzero(M)\n",
    "removed_cells_sp = sp_sparse.lil_matrix((len(users),len(business)),dtype=float)\n",
    "num_non_zero = len(non_zero_cells[0])\n",
    "cells_to_remove = int(0.05*len(non_zero_cells[0]))\n",
    "while cells_to_remove > 0:\n",
    "    k = random.randint(0,num_non_zero-1)\n",
    "    i = non_zero_cells[0][k]\n",
    "    j = non_zero_cells[1][k]\n",
    "    if (i,j) not in removed_cells:\n",
    "        removed_cells_sp[i,j] = M[i,j]\n",
    "        M[i,j] = 0\n",
    "        cells_to_remove -= 1\n",
    "print(removed_cells_sp)"
   ]
  },
  {
   "cell_type": "code",
   "execution_count": null,
   "metadata": {},
   "outputs": [],
   "source": [
    "print(len(removed_cells))"
   ]
  },
  {
   "cell_type": "code",
   "execution_count": 6,
   "metadata": {},
   "outputs": [
    {
     "name": "stdout",
     "output_type": "stream",
     "text": [
      "(4794, 4794)\n"
     ]
    }
   ],
   "source": [
    "import sklearn.metrics as metrics\n",
    "M_cosine_similarity = metrics.pairwise.cosine_similarity(M)\n",
    "#M_cosine_similarity = csr_matrix(M_cosine_similarity)\n",
    "print(M_cosine_similarity.shape)"
   ]
  },
  {
   "cell_type": "markdown",
   "metadata": {},
   "source": [
    "* Εδώ θέτω αρχικά την διαγώνιο του πίνακα με τα similarities με 0 ώστε να μην επιρεάζει στην εντοπισμό των K πιο όμοιων χρηστών.\n",
    "* Για κάθε κελί που έχω διαγράψει τη βαθμολογία βάση της θέσης του στον πίνακα κάνω πρόβλεψη.\n",
    "* Κοιτάω σε ποιον χρήστη αντιστοιχεί η βαθμολογία.\n",
    "* Για τον χρήστη αυτό παίρνω την αντίστοιχη γραμμή του στον πίνακα με τα similarities με τους άλλου χρήστες.\n",
    "* Κοιτάω να δω σε ποιά επιχειρήση-column ανοίκει η βαθμολογία.\n",
    "* Για την επιχειρήση αυτή παίρνω όλη τη στήλη που της αντιστοιχεί(j) από τον πίνακα reviews(M) και κρατάω τις θέσεις των χρηστών που έχουν δώσει μη μηδενική βαθμολογία.\n",
    "* Τραβάω το index από την γραμμή με τα similarities του πιο όμοιου χρήστη (argmax).\n",
    "* Αν ανοίκει στη λίστα με τους χρήστες που έχουν δώσει μη μηδενική βαθμολογία προστίθεται στο σύνολο με τους Κ πιο όμοιους χρήστες.\n",
    "* Αλλιώς το similarity του είναι αδιάφορο το μηδενίζουμε και το αγνοούμε.\n",
    "* Αντλούμε έγκυρα argmax μέχρι να συγκεντρώσουμε τους K πιο όμοιους χρήστες.\n",
    "* Υπολογίζουμε τις προβλέψεις με βάση το σύνολο τον πιο όμοιων χρηστών και τις τοποθετούμε στον πίνακα με τα reviews.\n",
    "* Οι χρόνοι εκτέλεσεις δεν είναι ικανοποιοιτικοί ίσως χρειάζεται να τροποποιήσω τον αλγόριθμο."
   ]
  },
  {
   "cell_type": "code",
   "execution_count": 7,
   "metadata": {
    "tags": []
   },
   "outputs": [],
   "source": [
    "import sys\n",
    "import numpy as np\n",
    "import time\n",
    "import copy\n",
    "from scipy.sparse import csc_matrix,lil_matrix\n",
    "\n",
    "def user_based(M,K,M_cosine_similarity,removed_cells):\n",
    "    M_csc = csr_matrix.tocsc(M)\n",
    "    np.fill_diagonal(M_cosine_similarity,0)\n",
    "    predictions = []\n",
    "    predictions_sp = sp_sparse.lil_matrix((len(users),len(business)),dtype=float)\n",
    "    cell_counter = 0\n",
    "    start_time = time.time()\n",
    "    for removed_cell in removed_cells:\n",
    "\n",
    "        #Με j είναι οι χρήστρες και i είναι οι επιχειρήσεις\n",
    "        i = removed_cell[0]\n",
    "        j = removed_cell[1]\n",
    "\n",
    "        #αριθμός όμοιων επιχειρήσεων που θα συμβάλουν στον υπολογισμό πρόβλεψης της βαθμολογίας που θα έβαζε ο j χρήστης\n",
    "        k=K\n",
    "\n",
    "        #Εξάγω τις θέσεις των κελιών όπου άλλοι χρήστες έχουν δώσει βαθμολογία για την j επιχείρηση\n",
    "        non_zero_ratings = csc_matrix.nonzero(M_csc[:,j])\n",
    "        number = len(non_zero_ratings[0])\n",
    "\n",
    "        #Αυτή η μάσκα έχει άσους στις θέσεις όπου τα ratings για την επιχείρηση είναι μη μηδενικά\n",
    "        mask_data = np.ones((number))\n",
    "        mask_row = np.zeros((number),dtype=int)\n",
    "        mask_col = non_zero_ratings[0]\n",
    "        mask = sp_sparse.csr_matrix((mask_data,(mask_row,mask_col)),shape=(1,len(M_cosine_similarity[i,:])))\n",
    "\n",
    "        #Εδώ κρατάμε ένα slice με το similarity του χρήστη που μας ενδιαφέρει\n",
    "        similarity_row = M_cosine_similarity[i,:]\n",
    "        similarity_row = sp_sparse.csr_matrix(similarity_row)\n",
    "\n",
    "        similarity_row = similarity_row.toarray()\n",
    "        mask = mask.toarray()\n",
    "\n",
    "        result = similarity_row * mask\n",
    "        #φτιάχνω μια νέα μάσκα στην οποία πια θα κρατήσω μόνο τις K μεγαλύτερες όμοιότητες\n",
    "        new_mask = lil_matrix((1,len(M_cosine_similarity[i,:])), dtype=float)\n",
    "        \n",
    "        #φτιάχνω ένα αντίγραφο του πίνακα με τα συνολικά similarities για να έχω πρόσβαση στις πληροφορίες του πίνακα μετά την τροποποίηση του\n",
    "        #λόγω της διαδικασίας αναζήτησης των Κ κορυφαίων ομοιοτήτων μέσα στον πίνακα\n",
    "        copied = copy.deepcopy(result)\n",
    "\n",
    "        number_of_non_zero_similarities = len(non_zero_ratings[0])\n",
    "        if k > number_of_non_zero_similarities:\n",
    "            k = number_of_non_zero_similarities\n",
    "\n",
    "        while k > 0:\n",
    "            index = np.argmax(result)\n",
    "            #τοποθετώ το max similarity στο νέο κενό πίνακα που θα χρησιμοποιήσω για τον υπολογισμό της πρόβλεψης της βαθμολογίας\n",
    "            new_mask[0,index] = copied.item(0,index)\n",
    "\n",
    "            #θέτω 0 το max similarity που βρήκα για να πάρω με το argmax την θέση του αμέσως μεγαλύτερου από αυτό\n",
    "            result[0][index] = 0\n",
    "            k -= 1\n",
    "\n",
    "        sum_of_sim = 0\n",
    "        sum_of_rating = 0\n",
    "        #υπολογίζω το άθροισμα του παρονομαστή\n",
    "        sum_of_sim = np.sum(new_mask)\n",
    "\n",
    "        #υπολογίζω το άθροισμα του αριθμητή\n",
    "        sum_of_rating = new_mask * M[:,j]\n",
    "        sum_of_rating = np.sum(sum_of_rating)\n",
    "        cell_counter += 1\n",
    "\n",
    "        #καταχωρώ την πρόβλεψη στον πίνακα με τα predictions\n",
    "        if sum_of_sim != 0:\n",
    "            prediction = sum_of_rating/sum_of_sim\n",
    "        else:\n",
    "            prediction = 0\n",
    "        predictions_sp[i,j] = prediction\n",
    "        \n",
    "\n",
    "    end_time = time.time()\n",
    "    print(end_time-start_time)\n",
    "\n",
    "    return predictions_sp"
   ]
  },
  {
   "cell_type": "code",
   "execution_count": null,
   "metadata": {
    "tags": []
   },
   "outputs": [],
   "source": [
    "predictions = user_based(M,20,M_cosine_similarity,removed_cells)\n",
    "print(predictions)"
   ]
  },
  {
   "cell_type": "code",
   "execution_count": 14,
   "metadata": {},
   "outputs": [
    {
     "name": "stdout",
     "output_type": "stream",
     "text": [
      "0.09615359433538458\n"
     ]
    }
   ],
   "source": [
    "from math import sqrt\n",
    "RMSE = sqrt(metrics.mean_squared_error(removed_cells_sp.toarray(), predictions.toarray()))\n",
    "print(RMSE)"
   ]
  },
  {
   "cell_type": "code",
   "execution_count": 15,
   "metadata": {},
   "outputs": [
    {
     "name": "stdout",
     "output_type": "stream",
     "text": [
      "(4794, 10) (10,) (10, 4092)\n",
      "[ 96.85109169  98.9647928  104.66445875 108.89190565 111.56240011\n",
      " 120.15486432 121.30448493 132.00399943 178.25084078 327.15289469]\n"
     ]
    }
   ],
   "source": [
    "import scipy.sparse.linalg as sp_linalg\n",
    "import matplotlib.pyplot as plt\n",
    "k = 10\n",
    "U,s,V = sp_linalg.svds(M,k,which = 'LM')\n",
    "\n",
    "print (U.shape, s.shape, V.shape)\n",
    "print(s)\n",
    "plt.plot(s[::-1])\n",
    "plt.ylabel('eigenvalue value')\n",
    "plt.xlabel('number of eigenvalues')\n",
    "S = np.diag(s)"
   ]
  },
  {
   "cell_type": "code",
   "execution_count": 16,
   "metadata": {},
   "outputs": [
    {
     "name": "stdout",
     "output_type": "stream",
     "text": [
      "[[ 96.85109169   0.           0.           0.           0.\n",
      "    0.           0.           0.           0.           0.        ]\n",
      " [  0.          98.9647928    0.           0.           0.\n",
      "    0.           0.           0.           0.           0.        ]\n",
      " [  0.           0.         104.66445875   0.           0.\n",
      "    0.           0.           0.           0.           0.        ]\n",
      " [  0.           0.           0.         108.89190565   0.\n",
      "    0.           0.           0.           0.           0.        ]\n",
      " [  0.           0.           0.           0.         111.56240011\n",
      "    0.           0.           0.           0.           0.        ]\n",
      " [  0.           0.           0.           0.           0.\n",
      "  120.15486432   0.           0.           0.           0.        ]\n",
      " [  0.           0.           0.           0.           0.\n",
      "    0.         121.30448493   0.           0.           0.        ]\n",
      " [  0.           0.           0.           0.           0.\n",
      "    0.           0.         132.00399943   0.           0.        ]\n",
      " [  0.           0.           0.           0.           0.\n",
      "    0.           0.           0.         178.25084078   0.        ]\n",
      " [  0.           0.           0.           0.           0.\n",
      "    0.           0.           0.           0.         327.15289469]]\n",
      "10\n",
      "0.3737508835293179\n",
      "9\n",
      "0.3663793176030174\n",
      "8\n",
      "0.3641622210624126\n",
      "7\n",
      "0.36294057694377885\n",
      "6\n",
      "0.36190573474967014\n",
      "5\n",
      "0.36088753036528703\n",
      "4\n",
      "0.3600074343573928\n",
      "3\n",
      "0.3591669622135557\n",
      "2\n",
      "0.3583887300153406\n",
      "1\n",
      "0.35769151602773597\n",
      "[[ 3.91323522e-01  6.81759068e-02  1.40498382e-01 ... -1.83197683e-02\n",
      "   1.15977028e-02 -4.84210427e-04]\n",
      " [ 6.39856277e-02  2.87700537e-02  4.96286333e-04 ... -5.42012443e-03\n",
      "  -5.11531674e-03  9.00120387e-03]\n",
      " [ 3.69561486e-01  4.71219184e-01  1.48699889e-01 ...  4.59085198e-02\n",
      "   8.16498868e-03  6.50179144e-02]\n",
      " ...\n",
      " [ 5.57515784e-02  3.99822192e-02  3.02829829e-02 ...  1.58359925e-03\n",
      "  -4.51191336e-04 -1.37214680e-04]\n",
      " [ 6.16559884e-02 -2.21995173e-02 -1.76580583e-02 ...  1.34045163e-03\n",
      "  -1.84741709e-03  1.46753128e-02]\n",
      " [ 7.53239706e-02 -1.19491784e-02  1.31695079e-02 ... -5.45395003e-03\n",
      "  -6.38870373e-03  8.80776474e-03]]\n"
     ]
    }
   ],
   "source": [
    "print(S)\n",
    "#data_k = U[:,0:].dot(S[0:,0:]).dot(V[0:,:])\n",
    "#data_k = U.dot(S).dot(V)\n",
    "#data_k[data_k>5] = 5\n",
    "#data_k[data_k<0] = 0\n",
    "\n",
    "for k in range(k,0,-1):\n",
    "    reconstructed_M += U[:,k:].dot(S[k:,k:]).dot(V[k:,:])\n",
    "    error = sqrt(metrics.mean_squared_error(M.toarray(),reconstructed_M))\n",
    "    print(k)\n",
    "    print(error)\n",
    "\n",
    "print(reconstructed_M)"
   ]
  }
 ],
 "metadata": {
  "kernelspec": {
   "display_name": "Python 3",
   "language": "python",
   "name": "python3"
  },
  "language_info": {
   "codemirror_mode": {
    "name": "ipython",
    "version": 3
   },
   "file_extension": ".py",
   "mimetype": "text/x-python",
   "name": "python",
   "nbconvert_exporter": "python",
   "pygments_lexer": "ipython3",
   "version": "3.7.4"
  }
 },
 "nbformat": 4,
 "nbformat_minor": 4
}
