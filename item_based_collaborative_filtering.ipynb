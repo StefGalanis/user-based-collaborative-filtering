{
 "metadata": {
  "language_info": {
   "codemirror_mode": {
    "name": "ipython",
    "version": 3
   },
   "file_extension": ".py",
   "mimetype": "text/x-python",
   "name": "python",
   "nbconvert_exporter": "python",
   "pygments_lexer": "ipython3",
   "version": "3.7.4-final"
  },
  "orig_nbformat": 2,
  "kernelspec": {
   "name": "python3",
   "display_name": "Python 3",
   "language": "python"
  }
 },
 "nbformat": 4,
 "nbformat_minor": 2,
 "cells": [
  {
   "cell_type": "code",
   "execution_count": null,
   "metadata": {},
   "outputs": [],
   "source": [
    "ratingsFile = open('pruned_data.csv',encoding = 'utf8',errors='ignore')\n",
    "users = {}\n",
    "business = {}\n",
    "user_counter = 0\n",
    "business_counter = 0\n",
    "row = []\n",
    "col = []\n",
    "data = []\n",
    "for line in ratingsFile:\n",
    "    lineValues = line.split(',')\n",
    "    user_id = lineValues[0]\n",
    "    business_id = lineValues[1]\n",
    "    rating = float(lineValues[2])\n",
    "    data.append(rating)\n",
    "    if user_id not in users:\n",
    "        row.append(user_counter)\n",
    "        users[user_id] = user_counter\n",
    "        user_counter += 1\n",
    "    else:\n",
    "        row_number = users[user_id]\n",
    "        row.append(row_number)\n",
    "    if business_id not in business:\n",
    "        col.append(business_counter)\n",
    "        business[business_id] = business_counter\n",
    "        business_counter += 1\n",
    "    else:\n",
    "        col_number = business[business_id]\n",
    "        col.append(col_number)\n",
    "ratingsFile.close()"
   ]
  },
  {
   "cell_type": "code",
   "execution_count": null,
   "metadata": {},
   "outputs": [],
   "source": [
    "import scipy.sparse as sp_sparse\n",
    "import numpy as np\n",
    "row = np.array(row)\n",
    "col = np.array(col)\n",
    "print(col)\n",
    "print(row)\n",
    "data = np.array(data)\n",
    "M = sp_sparse.csr_matrix((data,(row,col)),shape=(len(users),len(business)))\n",
    "M = M.T\n",
    "print(M)\n",
    "print(M.toarray())"
   ]
  },
  {
   "cell_type": "code",
   "execution_count": null,
   "metadata": {
    "tags": [
     "outputPrepend"
    ]
   },
   "outputs": [],
   "source": [
    "from scipy.sparse import csr_matrix\n",
    "import random\n",
    "print(M.get_shape)\n",
    "non_zero_cells = csr_matrix.nonzero(M)\n",
    "# print(non_zero_cells[0])\n",
    "removed_cells = []\n",
    "num_non_zero = len(non_zero_cells[0])\n",
    "cells_to_remove = int(0.05*len(non_zero_cells[0]))\n",
    "while cells_to_remove > 0:\n",
    "    k = random.randint(0,num_non_zero-1)\n",
    "    i = non_zero_cells[0][k]\n",
    "    j = non_zero_cells[1][k]\n",
    "    if (i,j) not in removed_cells:\n",
    "        M[i,j] = 0\n",
    "        removed_cells.append((non_zero_cells[0][i],non_zero_cells[1][i]))\n",
    "        cells_to_remove -= 1\n",
    "print(cells_to_remove)\n",
    "print(non_zero_cells)\n",
    "print(removed_cells)"
   ]
  },
  {
   "cell_type": "code",
   "execution_count": null,
   "metadata": {},
   "outputs": [],
   "source": [
    "import sklearn.metrics as metrics\n",
    "M_cosine_similarity = metrics.pairwise.cosine_similarity(M)\n",
    "#M_cosine_similarity = csr_matrix(M_cosine_similarity)\n",
    "print(len(business))\n",
    "print(M_cosine_similarity.shape)"
   ]
  },
  {
   "cell_type": "code",
   "execution_count": null,
   "metadata": {
    "tags": []
   },
   "outputs": [],
   "source": [
    "import sys\n",
    "import time\n",
    "import copy\n",
    "import numpy as np\n",
    "from scipy.sparse import csc_matrix\n",
    "M_csc = csr_matrix.tocsc(M)\n",
    "np.fill_diagonal(M_cosine_similarity,0)\n",
    "predictions = []\n",
    "cell_counter = 0\n",
    "start_time = time.time()\n",
    "for removed_cell in removed_cells:\n",
    "\n",
    "    topk = []\n",
    "    k=20\n",
    "    i = removed_cell[0]\n",
    "    j = removed_cell[1]\n",
    "\n",
    "    non_zero_ratings = csc_matrix.nonzero(M_csc[:,j])\n",
    "    number = len(non_zero_ratings[0])\n",
    "\n",
    "    mask_data = np.ones((number))\n",
    "    mask_row = np.zeros((number),dtype=int)\n",
    "    mask_col = non_zero_ratings[0]\n",
    "    mask = sp_sparse.csr_matrix((mask_data,(mask_row,mask_col)),shape=(1,len(M_cosine_similarity[i,:])))\n",
    "\n",
    "    similarity_row = M_cosine_similarity[i,:]\n",
    "    similarity_row = sp_sparse.csr_matrix(similarity_row)\n",
    "\n",
    "    similarity_row = similarity_row.toarray()\n",
    "    mask = mask.toarray()\n",
    "    result = similarity_row * mask\n",
    "\n",
    "    new_mask = csr_matrix((1,len(M_cosine_similarity[i,:])), dtype=float)\n",
    "    copied = copy.deepcopy(result)\n",
    "\n",
    "    while k > 0 : #and len(np.nonzero(result))>k \n",
    "        index = np.argmax(result)\n",
    "        # print(index)\n",
    "\n",
    "        topk.append((index,result[0][index]))\n",
    "\n",
    "        new_mask[0,index] = copied.item(0,index)\n",
    "\n",
    "        result[0][index] = 0\n",
    "        k -= 1\n",
    "\n",
    "    sum_of_sim = 0\n",
    "    sum_of_rating = 0\n",
    "\n",
    "    sum_of_sim = np.sum(new_mask)\n",
    "\n",
    "    sum_of_rating = new_mask * M[:,j]\n",
    "    sum_of_rating = np.sum(sum_of_rating)\n",
    "    cell_counter += 1\n",
    "\n",
    "    # for element in topk:\n",
    "    #     sum_of_sim += element[1]\n",
    "    #     #print(M[element[0],j])\n",
    "    #     sum_of_rating += M[element[0],j] * element[1]\n",
    "    # if sum_of_rating == sumsim:\n",
    "    #     cell_counter += 1\n",
    "    prediction = sum_of_rating/sum_of_sim\n",
    "    predictions.append((i,j,prediction,sum_of_rating))\n",
    "    M[i,j] = prediction\n",
    "    \n",
    "end_time = time.time()\n",
    "total_time = end_time -start_time\n",
    "print(total_time)\n",
    "print(cell_counter)"
   ]
  },
  {
   "cell_type": "code",
   "execution_count": null,
   "metadata": {},
   "outputs": [],
   "source": [
    "print(len(predictions))\n",
    "print(len(removed_cells))"
   ]
  },
  {
   "cell_type": "code",
   "execution_count": null,
   "metadata": {
    "tags": [
     "outputPrepend"
    ]
   },
   "outputs": [],
   "source": [
    "print(predictions)"
   ]
  }
 ]
}