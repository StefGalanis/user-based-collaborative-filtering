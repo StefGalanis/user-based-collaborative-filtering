{
 "cells": [
  {
   "cell_type": "code",
   "execution_count": 1,
   "metadata": {},
   "outputs": [],
   "source": [
    "ratingsFile = open('pruned_data.csv',encoding = 'utf8',errors='ignore')\n",
    "users = {}\n",
    "business = {}\n",
    "user_counter = 0\n",
    "business_counter = 0\n",
    "row = []\n",
    "col = []\n",
    "data = []\n",
    "for line in ratingsFile:\n",
    "    lineValues = line.split(',')\n",
    "    user_id = lineValues[0]\n",
    "    business_id = lineValues[1]\n",
    "    rating = float(lineValues[2])\n",
    "    data.append(rating)\n",
    "    if user_id not in users:\n",
    "        row.append(user_counter)\n",
    "        users[user_id] = user_counter\n",
    "        user_counter += 1\n",
    "    else:\n",
    "        row_number = users[user_id]\n",
    "        row.append(row_number)\n",
    "    if business_id not in business:\n",
    "        col.append(business_counter)\n",
    "        business[business_id] = business_counter\n",
    "        business_counter += 1\n",
    "    else:\n",
    "        col_number = business[business_id]\n",
    "        col.append(col_number)\n",
    "ratingsFile.close()"
   ]
  },
  {
   "cell_type": "code",
   "execution_count": 2,
   "metadata": {},
   "outputs": [
    {
     "name": "stdout",
     "output_type": "stream",
     "text": [
      "[   0    1    2 ...  767 1189 3023]\n",
      "[   0    0    0 ... 4793 4793 4793]\n",
      "  (0, 0)\t4.0\n",
      "  (1, 0)\t4.0\n",
      "  (2, 0)\t5.0\n",
      "  (3, 0)\t4.0\n",
      "  (4, 0)\t4.0\n",
      "  (5, 0)\t5.0\n",
      "  (6, 0)\t4.0\n",
      "  (7, 0)\t4.0\n",
      "  (8, 0)\t2.0\n",
      "  (9, 0)\t5.0\n",
      "  (10, 0)\t5.0\n",
      "  (11, 0)\t4.0\n",
      "  (12, 0)\t5.0\n",
      "  (13, 0)\t4.0\n",
      "  (14, 0)\t4.0\n",
      "  (15, 0)\t4.0\n",
      "  (16, 0)\t2.0\n",
      "  (17, 0)\t3.0\n",
      "  (18, 0)\t4.0\n",
      "  (19, 0)\t4.0\n",
      "  (20, 0)\t5.0\n",
      "  (21, 0)\t3.0\n",
      "  (22, 0)\t4.0\n",
      "  (23, 0)\t4.0\n",
      "  (24, 0)\t4.0\n",
      "  :\t:\n",
      "  (2322, 4792)\t4.0\n",
      "  (2423, 4792)\t5.0\n",
      "  (2741, 4792)\t4.0\n",
      "  (2845, 4792)\t2.0\n",
      "  (2982, 4792)\t5.0\n",
      "  (3138, 4792)\t3.0\n",
      "  (40, 4793)\t5.0\n",
      "  (63, 4793)\t5.0\n",
      "  (414, 4793)\t3.0\n",
      "  (767, 4793)\t5.0\n",
      "  (814, 4793)\t4.0\n",
      "  (916, 4793)\t3.0\n",
      "  (972, 4793)\t4.0\n",
      "  (1076, 4793)\t5.0\n",
      "  (1189, 4793)\t1.0\n",
      "  (1634, 4793)\t3.0\n",
      "  (1928, 4793)\t2.0\n",
      "  (2218, 4793)\t5.0\n",
      "  (2388, 4793)\t4.0\n",
      "  (2593, 4793)\t5.0\n",
      "  (2995, 4793)\t3.0\n",
      "  (3023, 4793)\t5.0\n",
      "  (3068, 4793)\t5.0\n",
      "  (3429, 4793)\t5.0\n",
      "  (3893, 4793)\t3.0\n",
      "(4092, 4794)\n"
     ]
    }
   ],
   "source": [
    "import scipy.sparse as sp_sparse\n",
    "import numpy as np\n",
    "row = np.array(row)\n",
    "col = np.array(col)\n",
    "print(col)\n",
    "print(row)\n",
    "data = np.array(data)\n",
    "M = sp_sparse.csr_matrix((data,(row,col)),shape=(len(users),len(business)))\n",
    "M = M.T\n",
    "print(M)\n",
    "print(M.get_shape())\n",
    "#print(M.toarray())"
   ]
  },
  {
   "cell_type": "code",
   "execution_count": 3,
   "metadata": {
    "tags": [
     "outputPrepend"
    ]
   },
   "outputs": [],
   "source": [
    "from scipy.sparse import csr_matrix\n",
    "import random\n",
    "#print(M.get_shape)\n",
    "non_zero_cells = csr_matrix.nonzero(M)\n",
    "# print(non_zero_cells[0])\n",
    "removed_cells = []\n",
    "num_non_zero = len(non_zero_cells[0])\n",
    "cells_to_remove = int(0.05*len(non_zero_cells[0]))\n",
    "while cells_to_remove > 0:\n",
    "    k = random.randint(0,num_non_zero-1)\n",
    "    i = non_zero_cells[0][k]\n",
    "    j = non_zero_cells[1][k]\n",
    "    if (i,j) not in removed_cells:\n",
    "        M[i,j] = 0\n",
    "        removed_cells.append((non_zero_cells[0][i],non_zero_cells[1][i]))\n",
    "        cells_to_remove -= 1\n",
    "#print(cells_to_remove)\n",
    "#print(non_zero_cells)\n",
    "#print(removed_cells)"
   ]
  },
  {
   "cell_type": "markdown",
   "metadata": {},
   "source": [
    "* Εδώ υπολογίζω τα similaritie επιχείρησης με επιχείρηση. Συνεπώς ο πίνακας αυτός θα είναι τετραγωνικός Διάστασης (Επιχειρήσεις Χ Επιχειρήσεις) = (4092,4092)"
   ]
  },
  {
   "cell_type": "code",
   "execution_count": 4,
   "metadata": {},
   "outputs": [
    {
     "name": "stdout",
     "output_type": "stream",
     "text": [
      "4092\n",
      "(4092, 4092)\n"
     ]
    }
   ],
   "source": [
    "import sklearn.metrics as metrics\n",
    "M_cosine_similarity = metrics.pairwise.cosine_similarity(M)\n",
    "#M_cosine_similarity = csr_matrix(M_cosine_similarity)\n",
    "print(len(business))\n",
    "print(M_cosine_similarity.shape)"
   ]
  },
  {
   "cell_type": "code",
   "execution_count": 5,
   "metadata": {
    "tags": []
   },
   "outputs": [
    {
     "name": "stdout",
     "output_type": "stream",
     "text": [
      "(array([   0,   53,   62,  116,  170,  189,  230,  254,  288,  293,  340,\n",
      "        386,  393,  445,  456,  499,  569,  646,  665,  683,  729,  793,\n",
      "        842, 1010, 1029, 1057, 1058, 1093, 1227, 1296, 1351, 1427, 1786,\n",
      "       2078, 2097, 2182, 2222, 2303, 2435, 2465, 2567, 2764, 3040, 3130,\n",
      "       3208, 3547, 3686, 3720], dtype=int32), array([0, 0, 0, 0, 0, 0, 0, 0, 0, 0, 0, 0, 0, 0, 0, 0, 0, 0, 0, 0, 0, 0,\n",
      "       0, 0, 0, 0, 0, 0, 0, 0, 0, 0, 0, 0, 0, 0, 0, 0, 0, 0, 0, 0, 0, 0,\n",
      "       0, 0, 0, 0], dtype=int32))\n"
     ]
    },
    {
     "ename": "SystemExit",
     "evalue": "1",
     "output_type": "error",
     "traceback": [
      "An exception has occurred, use %tb to see the full traceback.\n",
      "\u001b[0;31mSystemExit\u001b[0m\u001b[0;31m:\u001b[0m 1\n"
     ]
    },
    {
     "name": "stderr",
     "output_type": "stream",
     "text": [
      "/home/steve/anaconda3/lib/python3.7/site-packages/IPython/core/interactiveshell.py:3334: UserWarning: To exit: use 'exit', 'quit', or Ctrl-D.\n",
      "  warn(\"To exit: use 'exit', 'quit', or Ctrl-D.\", stacklevel=1)\n"
     ]
    }
   ],
   "source": [
    "import sys\n",
    "import time\n",
    "import copy\n",
    "import numpy as np\n",
    "from scipy.sparse import csc_matrix,lil_matrix\n",
    "M_csc = csr_matrix.tocsc(M)\n",
    "np.fill_diagonal(M_cosine_similarity,0)\n",
    "predictions = []\n",
    "cell_counter = 0\n",
    "start_time = time.time()\n",
    "for removed_cell in removed_cells:\n",
    "\n",
    "    #topk = []\n",
    "    #Με j είναι οι χρήστρες και i είναι οι επιχειρήσεις\n",
    "    i = removed_cell[0]\n",
    "    j = removed_cell[1]\n",
    "    #αριθμός όμοιων επιχειρήσεων που θα συμβάλουν στον υπολογισμό πρόβλεψης της βαθμολογίας που θα έβαζε ο j χρήστης\n",
    "    k=100\n",
    "\n",
    "    #Εξάγω τις θέσεις των κελιών όπου ο j χρήστης έχεις δώσει βαθμολογία για κάποια επιχείρηση\n",
    "    non_zero_ratings = csc_matrix.nonzero(M_csc[:,j])\n",
    "\n",
    "    number = len(non_zero_ratings[0])\n",
    "\n",
    "    #Αυτή η μάσκα έχει άσους στις θέσεις όπου τα ratings για την επιχείρηση είναι μη μηδενικά\n",
    "    mask_data = np.ones((number))\n",
    "    mask_row = np.zeros((number),dtype=int)\n",
    "    mask_col = non_zero_ratings[0]\n",
    "    mask = sp_sparse.csr_matrix((mask_data,(mask_row,mask_col)),shape=(1,len(M_cosine_similarity[i,:])))\n",
    "    \n",
    "    #Εδώ κρατάμε ένα slice με το similarity της επιχείρησης που μας ενδιαφέρει\n",
    "    similarity_row = M_cosine_similarity[i,:]\n",
    "    similarity_row = sp_sparse.csr_matrix(similarity_row)\n",
    "\n",
    "    similarity_row = similarity_row.toarray()\n",
    "    mask = mask.toarray()\n",
    "    \n",
    "    #Υπολογίζω το vector το οποίο θα έχει τα similarities που με ενδιαφέρουν, δηλαδή των επιχειρήσεων που έχει δώσει βαθμολογία ο χρήστης\n",
    "    result = similarity_row * mask\n",
    "\n",
    "    #φτιάχνω μια νέα μάσκα στην οποία πια θα κρατήσω μόνο τις K μεγαλύτερες όμοιότητες\n",
    "    new_mask = lil_matrix((1,len(M_cosine_similarity[i,:])), dtype=float)\n",
    "    #φτιάχνω ένα αντίγραφο του πίνακα με τα συνολικά similarities για να έχω πρόσβαση στις πληροφορίες του πίνακα μετά την τροποποίηση του\n",
    "    #λόγω της διαδικασίας αναζήτησης των Κ κορυφαίων ομοιοτήτων μέσα στον πίνακα\n",
    "    copied = copy.deepcopy(result)\n",
    "    \n",
    "    #result = lil_matrix(result)nnew_maskew_mask\n",
    "    #Περιορίζω τον αριθμό των Κ κορυφαίων ομοιοτήτων που θα συμβάλουν στον υπολογισμό ανάλογα με πόσες είναι μη μηδενικές\n",
    "    #ίσως και να μην χρειάζεται αλλά ίσως κερδίσω κάποιο χρόνο στους υπολογισμούς, βασικά θα γίνει πιο γρήγορα η εξαγωγή των κορυφαίων ομοιοτήτων\n",
    "    #μιας και το να αντλώ μηδενικές ομοιότητες οι οποίες δεν θα συμβάλουν στο αποτέλεσμα δεν έχει νόημα\n",
    "    number_of_non_zero_similarities = np.nonzero(result)\n",
    "    if k > number_of_non_zero_similarities:\n",
    "        k = number_of_non_zero_similarities\n",
    "    \n",
    "    while k > 0 and number_of_non_zero_similarities < : #and len(np.nonzero(result))>k \n",
    "        index = np.argmax(result)\n",
    "        # print(index)\n",
    "        #topk.append((index,result[0][index]))\n",
    "        \n",
    "        #τοποθετώ το max similarity στο νέο κενό πίνακα που θα χρησιμοποιήσω για τον υπολογισμό της πρόβλεψης της βαθμολογίας\n",
    "        new_mask[0,index] = copied.item(0,index)\n",
    "        \n",
    "        #θέτω 0 το max similarity που βρήκα για να πάρω με το argmax την θέση του αμέσως μεγαλύτερου από αυτό\n",
    "        result[0][index] = 0\n",
    "        k -= 1\n",
    "        \n",
    "    sum_of_sim = 0\n",
    "    sum_of_rating = 0\n",
    "    #new_mask = new_mask.toarray()\n",
    "    \n",
    "    #υπολογίζω το άθροισμα του παρονομαστή\n",
    "    sum_of_sim = np.sum(new_mask)\n",
    "    #sum_of_sim = new_mask.sum()\n",
    "    \n",
    "    #column = sp_sparse.lil_matrix(M[:,j])\n",
    "    #υπολογίζω το άθροισμα του αριθμητή\n",
    "    sum_of_rating = new_mask * M[:,j]\n",
    "    sum_of_rating = np.sum(sum_of_rating)\n",
    "    cell_counter += 1\n",
    "\n",
    "    # for element in topk:\n",
    "    #     sum_of_sim += element[1]\n",
    "    #     #print(M[element[0],j])\n",
    "    #     sum_of_rating += M[element[0],j] * element[1]\n",
    "    # if sum_of_rating == sumsim:\n",
    "    #     cell_counter += 1\n",
    "    if sum_of_sim != 0:\n",
    "        prediction = sum_of_rating/sum_of_sim\n",
    "    else:\n",
    "        prediction = 0\n",
    "    predictions.append((i,j,prediction,sum_of_rating))\n",
    "    #καταχωρώ την πρόβλεψη στον πίνακα με τα reviews\n",
    "    M[i,j] = prediction\n",
    "    \n",
    "end_time = time.time()\n",
    "total_time = end_time -start_time\n",
    "print(total_time)\n",
    "print(cell_counter)"
   ]
  },
  {
   "cell_type": "code",
   "execution_count": null,
   "metadata": {},
   "outputs": [],
   "source": [
    "print(len(predictions))\n",
    "print(len(removed_cells))"
   ]
  },
  {
   "cell_type": "code",
   "execution_count": null,
   "metadata": {
    "tags": [
     "outputPrepend"
    ]
   },
   "outputs": [],
   "source": [
    "print(predictions)"
   ]
  },
  {
   "cell_type": "code",
   "execution_count": null,
   "metadata": {},
   "outputs": [],
   "source": []
  }
 ],
 "metadata": {
  "kernelspec": {
   "display_name": "Python 3",
   "language": "python",
   "name": "python3"
  },
  "language_info": {
   "codemirror_mode": {
    "name": "ipython",
    "version": 3
   },
   "file_extension": ".py",
   "mimetype": "text/x-python",
   "name": "python",
   "nbconvert_exporter": "python",
   "pygments_lexer": "ipython3",
   "version": "3.7.4"
  }
 },
 "nbformat": 4,
 "nbformat_minor": 4
}
