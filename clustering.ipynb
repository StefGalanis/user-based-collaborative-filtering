{
 "cells": [
  {
   "cell_type": "code",
   "execution_count": 1,
   "metadata": {},
   "outputs": [],
   "source": [
    "import json\n",
    "import sys\n",
    "import copy"
   ]
  },
  {
   "cell_type": "code",
   "execution_count": 2,
   "metadata": {},
   "outputs": [
    {
     "name": "stdout",
     "output_type": "stream",
     "text": [
      "749\n"
     ]
    }
   ],
   "source": [
    "business_file = open('yelp_dataset/yelp_academic_dataset_business.json')\n",
    "\n",
    "categories = ['Beauty & Spas','Shopping','Bars']\n",
    "categories_list = categories.copy()\n",
    "categories = set(categories)\n",
    "filtered_business = {}\n",
    "filtered_business_categories = {}\n",
    "\n",
    "for line in business_file:\n",
    "    business = json.loads(line)\n",
    "    if business['city'] == 'Toronto' and int(business['review_count']) >= 10:\n",
    "        business_categories = business['categories']\n",
    "        filtered_business_categories[business['business_id']] = business['categories']\n",
    "        if business_categories is not None:\n",
    "            business_categories = business_categories.split(',')\n",
    "            business_categories = set(business_categories)\n",
    "            if len(categories.intersection(business_categories)) > 0:\n",
    "                common_elements = categories.intersection(business_categories)\n",
    "                common_elements = list(common_elements)\n",
    "                if categories_list[0] in common_elements:\n",
    "                    filtered_business[business['business_id']] = categories_list[0]\n",
    "                elif categories_list[1] in common_elements:\n",
    "                    filtered_business[business['business_id']] = categories_list[1]\n",
    "                elif categories_list[2] in common_elements:\n",
    "                    filtered_business[business['business_id']] = categories_list[2]\n",
    "print(len(filtered_business))\n",
    "business_file.close()"
   ]
  },
  {
   "cell_type": "code",
   "execution_count": 3,
   "metadata": {},
   "outputs": [],
   "source": [
    "reviews_file = open('yelp_dataset/yelp_academic_dataset_review.json')\n",
    "reviews = {}\n",
    "for line in reviews_file:\n",
    "    review = json.loads(line)\n",
    "    if review['business_id'] in filtered_business.keys():\n",
    "        value = reviews.get(review['business_id'])\n",
    "        if value is None :\n",
    "            reviews[review['business_id']] = review['text']\n",
    "        else:\n",
    "            reviews[review['business_id']] += ' ' + review['text']\n",
    "reviews_file.close()"
   ]
  },
  {
   "cell_type": "code",
   "execution_count": 4,
   "metadata": {},
   "outputs": [
    {
     "name": "stdout",
     "output_type": "stream",
     "text": [
      "749\n"
     ]
    }
   ],
   "source": [
    "reviews_list = []\n",
    "for key, value in reviews.items():\n",
    "    temp = [key,value,filtered_business[key],filtered_business_categories[key]]\n",
    "    reviews_list.append(temp)\n",
    "print(len(reviews_list))"
   ]
  },
  {
   "cell_type": "code",
   "execution_count": 5,
   "metadata": {},
   "outputs": [],
   "source": [
    "review_ids,corpus,target,full_list_of_categories = zip(*reviews_list)"
   ]
  },
  {
   "cell_type": "code",
   "execution_count": 6,
   "metadata": {},
   "outputs": [],
   "source": [
    "true_labels = []\n",
    "for idx,item in enumerate(target):\n",
    "    if item == 'Shopping':\n",
    "        true_labels.append(0)\n",
    "    elif item == 'Bars':\n",
    "        true_labels.append(1)\n",
    "    elif item == 'Beauty & Spas':\n",
    "        true_labels.append(2)"
   ]
  },
  {
   "cell_type": "code",
   "execution_count": 7,
   "metadata": {},
   "outputs": [],
   "source": [
    "import sklearn.feature_extraction.text as sk_text"
   ]
  },
  {
   "cell_type": "code",
   "execution_count": 8,
   "metadata": {},
   "outputs": [
    {
     "name": "stdout",
     "output_type": "stream",
     "text": [
      "[[0.00658072 0.02450147 0.00404368 ... 0.         0.00560579 0.01470713]\n",
      " [0.         0.         0.         ... 0.         0.00651807 0.00855028]\n",
      " [0.00494784 0.01210582 0.01135053 ... 0.00129321 0.         0.        ]\n",
      " ...\n",
      " [0.02787523 0.01482652 0.         ... 0.         0.         0.        ]\n",
      " [0.         0.         0.         ... 0.         0.         0.        ]\n",
      " [0.         0.         0.03989281 ... 0.         0.         0.        ]]\n",
      "<bound method spmatrix.get_shape of <749x1000 sparse matrix of type '<class 'numpy.float64'>'\n",
      "\twith 282220 stored elements in Compressed Sparse Row format>>\n"
     ]
    }
   ],
   "source": [
    "vectorizer = sk_text.TfidfVectorizer(min_df=1,stop_words = 'english',max_features=1000) #min_df = 0.05\n",
    "X = vectorizer.fit_transform(corpus)\n",
    "print(X.toarray())\n",
    "print(X.get_shape)"
   ]
  },
  {
   "cell_type": "code",
   "execution_count": 9,
   "metadata": {},
   "outputs": [],
   "source": [
    "#print (vectorizer.get_feature_names())"
   ]
  },
  {
   "cell_type": "code",
   "execution_count": 10,
   "metadata": {},
   "outputs": [],
   "source": [
    "import sklearn.cluster as sk_cluster"
   ]
  },
  {
   "cell_type": "code",
   "execution_count": 11,
   "metadata": {},
   "outputs": [],
   "source": [
    "def categories_statistics(predictions,reviews_list,filtered_business_categories):\n",
    "    idxArray = np.where(predictions == 2)\n",
    "    for index in idxArray:\n",
    "        #business_id = reviews_list[idxArray[0][1]][0]\n",
    "        business_id = reviews_list[index][0]\n",
    "        print(filtered_business_categories[business_id])\n",
    "#print(reviews_list[idxArray[0][1]][1])\n",
    "#print(np.where(predictions == 2))"
   ]
  },
  {
   "cell_type": "code",
   "execution_count": 12,
   "metadata": {},
   "outputs": [],
   "source": [
    "from sklearn import metrics\n",
    "import numpy as np\n",
    "import scipy.spatial.distance as sp_dist"
   ]
  },
  {
   "cell_type": "code",
   "execution_count": 13,
   "metadata": {},
   "outputs": [],
   "source": [
    "def scores(true_labels,mapped_kmeans_labels):    \n",
    "    p = metrics.precision_score(true_labels,mapped_kmeans_labels, average=None)\n",
    "    print(p)\n",
    "    r = metrics.recall_score(true_labels,mapped_kmeans_labels, average = None)\n",
    "    print(r)\n",
    "    p = metrics.precision_score(true_labels,mapped_kmeans_labels, average='weighted')\n",
    "    print(p)\n",
    "    r = metrics.recall_score(true_labels,mapped_kmeans_labels, average = 'weighted')\n",
    "    print(r)"
   ]
  },
  {
   "cell_type": "code",
   "execution_count": 14,
   "metadata": {},
   "outputs": [],
   "source": [
    "def cluster_class_mapping(kmeans_labels,true_labels):\n",
    "    C= metrics.confusion_matrix(kmeans_labels,true_labels)\n",
    "    mapping = list(np.argmax(C,axis=1)) #for each row (cluster) find the best class in the confusion matrix\n",
    "    mapped_kmeans_labels = [mapping[l] for l in kmeans_labels]\n",
    "    C2= metrics.confusion_matrix(mapped_kmeans_labels,true_labels)\n",
    "    return mapped_kmeans_labels,C2"
   ]
  },
  {
   "cell_type": "code",
   "execution_count": 15,
   "metadata": {},
   "outputs": [],
   "source": [
    "def center_distances(kmeans):\n",
    "    D = sp_dist.pdist(kmeans.cluster_centers_, 'euclidean') \n",
    "    distances_array = sp_dist.squareform(D)\n",
    "    return sp_dist.squareform(D)"
   ]
  },
  {
   "cell_type": "markdown",
   "metadata": {},
   "source": [
    "### Kmeans για Κ=3"
   ]
  },
  {
   "cell_type": "code",
   "execution_count": 16,
   "metadata": {},
   "outputs": [
    {
     "data": {
      "text/plain": [
       "array([1, 1, 2, 0, 1, 0, 0, 2, 2, 0, 0, 0, 0, 0, 2, 2, 1, 1, 0, 1, 1, 0,\n",
       "       2, 2, 2, 2, 0, 2, 0, 1, 2, 0, 2, 0, 1, 2, 2, 0, 1, 0, 0, 0, 2, 2,\n",
       "       1, 2, 2, 0, 1, 1, 0, 0, 2, 1, 0, 0, 1, 0, 0, 2, 0, 0, 0, 0, 2, 1,\n",
       "       1, 0, 2, 0, 0, 1, 0, 0, 0, 0, 0, 0, 0, 0, 0, 1, 0, 1, 0, 0, 1, 0,\n",
       "       1, 1, 1, 1, 2, 0, 1, 1, 0, 1, 0, 1, 0, 0, 2, 1, 0, 1, 2, 1, 0, 0,\n",
       "       0, 0, 0, 2, 0, 2, 1, 2, 2, 0, 2, 0, 0, 1, 0, 1, 2, 1, 0, 2, 1, 0,\n",
       "       0, 1, 0, 0, 2, 0, 2, 2, 2, 0, 1, 1, 2, 0, 1, 1, 1, 1, 2, 1, 1, 0,\n",
       "       1, 2, 1, 1, 1, 0, 2, 2, 1, 1, 1, 1, 2, 1, 0, 2, 1, 0, 0, 2, 0, 1,\n",
       "       1, 1, 2, 2, 0, 0, 1, 0, 1, 2, 2, 0, 2, 0, 0, 2, 0, 0, 2, 2, 0, 0,\n",
       "       0, 0, 0, 1, 0, 0, 0, 0, 0, 1, 1, 0, 0, 0, 0, 1, 2, 1, 0, 0, 1, 2,\n",
       "       0, 0, 0, 1, 2, 2, 1, 0, 2, 2, 1, 2, 0, 2, 0, 0, 1, 1, 1, 1, 1, 0,\n",
       "       1, 1, 2, 0, 1, 0, 0, 1, 1, 1, 1, 2, 1, 1, 0, 1, 0, 1, 0, 0, 0, 1,\n",
       "       2, 2, 0, 1, 0, 0, 2, 0, 2, 0, 0, 0, 1, 0, 2, 0, 0, 0, 0, 0, 2, 0,\n",
       "       0, 1, 1, 0, 0, 0, 0, 1, 1, 0, 0, 0, 0, 2, 0, 1, 0, 0, 1, 1, 1, 1,\n",
       "       1, 2, 1, 2, 0, 1, 1, 2, 1, 1, 1, 1, 1, 1, 2, 0, 2, 1, 1, 0, 0, 1,\n",
       "       1, 1, 1, 2, 1, 1, 0, 0, 0, 1, 1, 2, 1, 2, 1, 2, 2, 2, 1, 2, 1, 0,\n",
       "       2, 2, 2, 0, 0, 0, 0, 0, 2, 0, 0, 0, 2, 1, 0, 2, 2, 0, 0, 2, 0, 0,\n",
       "       2, 0, 1, 1, 1, 1, 0, 2, 2, 1, 1, 1, 0, 0, 2, 1, 0, 1, 2, 0, 1, 1,\n",
       "       2, 0, 1, 0, 2, 0, 2, 1, 1, 0, 2, 1, 2, 2, 0, 1, 2, 2, 1, 0, 0, 0,\n",
       "       1, 0, 0, 0, 2, 0, 0, 2, 1, 0, 0, 0, 0, 0, 1, 0, 1, 2, 0, 0, 1, 1,\n",
       "       2, 2, 0, 1, 0, 0, 2, 0, 0, 0, 2, 0, 0, 2, 1, 1, 0, 0, 1, 1, 1, 0,\n",
       "       2, 1, 0, 2, 0, 1, 0, 0, 2, 1, 1, 1, 0, 1, 1, 0, 2, 0, 2, 2, 0, 0,\n",
       "       2, 2, 0, 1, 1, 1, 0, 1, 0, 1, 0, 1, 0, 0, 0, 0, 0, 1, 0, 2, 0, 0,\n",
       "       2, 2, 2, 0, 1, 1, 1, 1, 0, 0, 0, 0, 1, 0, 2, 0, 0, 1, 2, 1, 0, 0,\n",
       "       1, 1, 0, 1, 2, 1, 1, 0, 0, 1, 0, 2, 1, 1, 1, 1, 0, 0, 1, 2, 1, 2,\n",
       "       2, 1, 2, 1, 1, 1, 0, 2, 2, 2, 1, 2, 0, 2, 2, 0, 1, 1, 2, 0, 1, 0,\n",
       "       1, 0, 2, 0, 1, 2, 1, 0, 0, 0, 0, 2, 0, 0, 0, 0, 0, 0, 2, 2, 0, 2,\n",
       "       0, 0, 0, 0, 2, 0, 0, 2, 1, 0, 1, 1, 1, 0, 1, 1, 1, 1, 1, 0, 1, 1,\n",
       "       1, 2, 0, 1, 0, 0, 2, 1, 2, 2, 2, 1, 0, 1, 0, 2, 1, 2, 0, 2, 2, 0,\n",
       "       1, 0, 0, 1, 0, 2, 0, 1, 1, 0, 0, 1, 1, 1, 0, 0, 2, 0, 0, 1, 0, 0,\n",
       "       1, 2, 1, 1, 0, 0, 2, 0, 2, 2, 0, 1, 0, 2, 0, 0, 0, 2, 1, 1, 2, 1,\n",
       "       1, 1, 1, 1, 1, 2, 0, 0, 2, 1, 0, 2, 0, 1, 2, 1, 2, 2, 1, 1, 1, 0,\n",
       "       0, 1, 0, 1, 0, 0, 0, 1, 2, 1, 0, 0, 0, 2, 2, 2, 0, 1, 0, 2, 0, 1,\n",
       "       2, 0, 0, 0, 0, 0, 0, 0, 0, 0, 1, 2, 0, 2, 0, 0, 0, 0, 2, 1, 1, 1,\n",
       "       0], dtype=int32)"
      ]
     },
     "execution_count": 16,
     "metadata": {},
     "output_type": "execute_result"
    }
   ],
   "source": [
    "k=3\n",
    "kmeans = sk_cluster.KMeans(init='k-means++', n_clusters=k, n_init=10)\n",
    "kmeans.fit_predict(X)"
   ]
  },
  {
   "cell_type": "code",
   "execution_count": 17,
   "metadata": {},
   "outputs": [
    {
     "name": "stdout",
     "output_type": "stream",
     "text": [
      "[[246   3  73]\n",
      " [  7 241   1]\n",
      " [  8   1 169]]\n",
      "[0.76397516 0.96787149 0.9494382 ]\n",
      "[0.94252874 0.98367347 0.69547325]\n",
      "0.8908404709349034\n",
      "0.8758344459279038\n",
      "[[0.         0.57412343 0.59996866]\n",
      " [0.57412343 0.         0.76125727]\n",
      " [0.59996866 0.76125727 0.        ]]\n"
     ]
    }
   ],
   "source": [
    "mapped_kmeans_labels,C = cluster_class_mapping(kmeans.labels_,true_labels)\n",
    "print(C)\n",
    "scores(true_labels,mapped_kmeans_labels)\n",
    "print(center_distances(kmeans))"
   ]
  },
  {
   "cell_type": "markdown",
   "metadata": {},
   "source": [
    "### Επιχειρήσεις που πήγαν λάθος Lookup στις κατηγορίες και στα top-terms της κάθε επιχείρησης\n",
    "* Βάση του lookup κανείς μπορεί να δει ότι top-terms των επιχειρήσεων αυτών είναι service,staff,people,store,girls,product,place,loaction που είναι λέξεις που συναντά κανείς σε σχολιασμό επιχειρήσεων που ανήκουν στην κατηγορία shopping"
   ]
  },
  {
   "cell_type": "code",
   "execution_count": 18,
   "metadata": {},
   "outputs": [
    {
     "name": "stdout",
     "output_type": "stream",
     "text": [
      "73\n",
      "{' Adult Entertainment', ' Art Galleries', ' Hotels', ' Traditional Chinese Medicine', ' Hair Removal', ' Pubs', ' Waxing', ' Specialty Schools', ' Dentists', ' Cosmetics & Beauty Supply', ' Local Flavor', ' Day Spas', ' Restaurants', ' Skin Care', ' Cosmetology Schools', ' British', ' Bars', ' Nail Salons', ' Tanning', 'Beauty & Spas', ' Makeup Artists', ' Massage', ' Piercing', ' Laser Hair Removal', ' Float Spa', ' Medical Centers', ' Lounges', ' Bridal', ' Hair Salons', ' Foot Care', ' Osteopathic Physicians', ' Hair Extensions', ' Hotels & Travel', ' Event Planning & Services', ' Local Services', ' Medical Spas', ' Active Life', ' Education', ' Doctors', ' Threading Services', ' Comfort Food', ' Eyebrow Services', ' Health & Medical', ' Yoga', ' Permanent Makeup', ' Eyelash Service', ' Spiritual Shop', ' Massage Therapy', ' Fitness & Instruction', ' Arts & Entertainment', ' Drugstores', ' Tattoo', ' Chiropractors', ' Reiki', ' Shopping', ' Jewelry', ' Physical Therapy', ' Nightlife', ' Acupuncture', ' Reflexology', ' Private Tutors'}\n",
      "Beauty & Spas, Cosmetics & Beauty Supply, Shopping\n",
      " products\n",
      " store\n",
      " like\n",
      " product\n",
      " smell\n",
      " hair\n",
      " staff\n",
      " people\n",
      " natural\n",
      " don\n",
      "Beauty & Spas, Local Flavor, Tattoo, Piercing, Shopping, Jewelry\n",
      " tattoo\n",
      " time\n",
      " ve\n",
      " staff\n",
      " shop\n",
      " like\n",
      " went\n",
      " piece\n",
      " service\n",
      " design\n",
      "Beauty & Spas, Nail Salons, Hair Salons\n",
      " waxing\n",
      " wax\n",
      " place\n",
      " service\n",
      " hair\n",
      " just\n",
      " wait\n",
      " ladies\n",
      " time\n",
      " waiting\n",
      "Beauty & Spas, Massage, Day Spas, Hair Salons, Nail Salons\n",
      " spa\n",
      " massage\n",
      " hotel\n",
      " rooms\n",
      " king\n",
      " hot\n",
      " room\n",
      " pedicure\n",
      " lemon\n",
      " lounge\n",
      "Beauty & Spas, Day Spas\n",
      " spa\n",
      " facial\n",
      " massage\n",
      " lashes\n",
      " relaxing\n",
      " skin\n",
      " free\n",
      " really\n",
      " like\n",
      " results\n",
      "Beauty & Spas, Eyelash Service, Eyebrow Services, Laser Hair Removal, Hair Removal\n",
      " lashes\n",
      " groupon\n",
      " got\n",
      " single\n",
      " deal\n",
      " amazing\n",
      " eyes\n",
      " late\n",
      " set\n",
      " booked\n",
      "Beauty & Spas, Day Spas\n",
      " spa\n",
      " pedi\n",
      " pedicure\n",
      " desk\n",
      " mani\n",
      " lady\n",
      " waxing\n",
      " place\n",
      " girl\n",
      " facial\n",
      "Beauty & Spas, Eyelash Service, Skin Care, Waxing, Hair Removal\n",
      " lashes\n",
      " eye\n",
      " girls\n",
      " ladies\n",
      " spa\n",
      " just\n",
      " professional\n",
      " nails\n",
      " really\n",
      " place\n",
      "Beauty & Spas, Health & Medical, Dentists\n",
      " appointment\n",
      " white\n",
      " groupon\n",
      " email\n",
      " service\n",
      " received\n",
      " place\n",
      " phone\n",
      " results\n",
      " booking\n",
      "Beauty & Spas, Eyelash Service\n",
      " lashes\n",
      " eye\n",
      " set\n",
      " appointment\n",
      " natural\n",
      " place\n",
      " really\n",
      " look\n",
      " did\n",
      " just\n",
      "Beauty & Spas, Day Spas, Skin Care, Makeup Artists\n",
      " facial\n",
      " skin\n",
      " products\n",
      " experience\n",
      " hair\n",
      " feel\n",
      " like\n",
      " store\n",
      " service\n",
      " positive\n",
      "Beauty & Spas, Drugstores, Cosmetics & Beauty Supply, Shopping\n",
      " store\n",
      " counter\n",
      " customer\n",
      " selection\n",
      " service\n",
      " stock\n",
      " good\n",
      " items\n",
      " staff\n",
      " people\n",
      "Beauty & Spas, Spiritual Shop, Shopping, Massage Therapy, Reiki, Health & Medical, Jewelry\n",
      " store\n",
      " books\n",
      " read\n",
      " book\n",
      " people\n",
      " moved\n",
      " ask\n",
      " ve\n",
      " help\n",
      " stand\n",
      "Beauty & Spas, Waxing, Hair Removal, Skin Care, Massage, Health & Medical, Day Spas, Massage Therapy\n",
      " massage\n",
      " card\n",
      " skin\n",
      " gift\n",
      " facial\n",
      " products\n",
      " hand\n",
      " offered\n",
      " told\n",
      " location\n",
      "Beauty & Spas, Hair Removal\n",
      " appointment\n",
      " groupon\n",
      " door\n",
      " phone\n",
      " spa\n",
      " business\n",
      " called\n",
      " place\n",
      " appointments\n",
      " closed\n",
      "Beauty & Spas, Laser Hair Removal, Medical Spas, Hair Removal, Skin Care, Health & Medical\n",
      " skin\n",
      " facial\n",
      " professional\n",
      " results\n",
      " treatment\n",
      " groupon\n",
      " products\n",
      " appointment\n",
      " recommend\n",
      " highly\n",
      "Beauty & Spas, Skin Care\n",
      " spa\n",
      " facial\n",
      " receptionist\n",
      " appointment\n",
      " school\n",
      " machine\n",
      " time\n",
      " deal\n",
      " hair\n",
      " bought\n",
      "Beauty & Spas, Massage, Foot Care\n",
      " massage\n",
      " foot\n",
      " groupon\n",
      " receptionist\n",
      " room\n",
      " yorkville\n",
      " spa\n",
      " relaxing\n",
      " place\n",
      " body\n",
      "Beauty & Spas, Cosmetics & Beauty Supply, Shopping\n",
      " store\n",
      " staff\n",
      " stock\n",
      " products\n",
      " help\n",
      " location\n",
      " skin\n",
      " product\n",
      " mall\n",
      " type\n",
      "Beauty & Spas, Day Spas, Fitness & Instruction, Skin Care, Active Life, Yoga, Massage\n",
      " hot\n",
      " room\n",
      " people\n",
      " really\n",
      " like\n",
      " place\n",
      " just\n",
      " change\n",
      " quite\n",
      " space\n"
     ]
    }
   ],
   "source": [
    "true_labels_np = np.array(true_labels)\n",
    "idx_true = np.where(true_labels_np == 2)\n",
    "predicted_labels_np = np.array(mapped_kmeans_labels)\n",
    "idx_predicted = np.where(predicted_labels_np == 0)\n",
    "intersection = np.intersect1d(idx_true, idx_predicted)\n",
    "print(len(intersection))\n",
    "counter = []\n",
    "for item in intersection:\n",
    "    values = full_list_of_categories[item].split(',')\n",
    "    for value in values:\n",
    "        counter.append(value)\n",
    "print(set(counter))\n",
    "for business in intersection[:20]:\n",
    "    asc_order_business = X[business].toarray().argsort()\n",
    "    order_business = asc_order_business[0][::-1]\n",
    "    print(reviews_list[business][3])\n",
    "    terms = vectorizer.get_feature_names()\n",
    "    for ind in order_business[:10]:\n",
    "        print (' %s' % terms[ind])"
   ]
  },
  {
   "cell_type": "markdown",
   "metadata": {},
   "source": [
    "### Κορυφαία terms ανά cluster για το clustering με Κ=3 Κέντρα"
   ]
  },
  {
   "cell_type": "code",
   "execution_count": 19,
   "metadata": {},
   "outputs": [
    {
     "name": "stdout",
     "output_type": "stream",
     "text": [
      "Top terms per cluster:\n",
      "Cluster 0:\n",
      " store\n",
      " like\n",
      " place\n",
      " service\n",
      " time\n",
      " just\n",
      " great\n",
      " staff\n",
      " good\n",
      " customer\n",
      "Cluster 1:\n",
      " food\n",
      " bar\n",
      " place\n",
      " good\n",
      " drinks\n",
      " great\n",
      " beer\n",
      " menu\n",
      " night\n",
      " like\n",
      "Cluster 2:\n",
      " hair\n",
      " nails\n",
      " cut\n",
      " salon\n",
      " nail\n",
      " haircut\n",
      " shellac\n",
      " place\n",
      " time\n",
      " barber\n"
     ]
    }
   ],
   "source": [
    "print(\"Top terms per cluster:\")\n",
    "asc_order_centroids = kmeans.cluster_centers_.argsort()#[:, ::-1]\n",
    "order_centroids = asc_order_centroids[:,::-1]\n",
    "terms = vectorizer.get_feature_names()\n",
    "for i in range(k):\n",
    "    print (\"Cluster %d:\" % i)\n",
    "    for ind in order_centroids[i, :10]:\n",
    "        print (' %s' % terms[ind])"
   ]
  },
  {
   "cell_type": "code",
   "execution_count": 20,
   "metadata": {},
   "outputs": [],
   "source": [
    "def agglomerative(X,true_labels,linkage):\n",
    "    print(str.upper(linkage))\n",
    "    agglo = sk_cluster.AgglomerativeClustering(linkage=linkage, n_clusters = 3)\n",
    "    agglo_labels = agglo.fit_predict(X.toarray())\n",
    "    C_agglo= metrics.confusion_matrix(agglo_labels,true_labels)\n",
    "    mapped_agglo_labels,C_agglo = cluster_class_mapping(agglo_labels,true_labels)\n",
    "    print(C_agglo)\n",
    "    p = metrics.precision_score(true_labels,mapped_agglo_labels, average='weighted')\n",
    "    print(p)\n",
    "    r = metrics.recall_score(true_labels,mapped_agglo_labels, average = 'weighted')\n",
    "    print(r)"
   ]
  },
  {
   "cell_type": "markdown",
   "metadata": {},
   "source": [
    "### Agglomerative για Complete, Single, Avarage, Ward"
   ]
  },
  {
   "cell_type": "code",
   "execution_count": 21,
   "metadata": {},
   "outputs": [
    {
     "name": "stdout",
     "output_type": "stream",
     "text": [
      "COMPLETE\n",
      "[[  0   0   0]\n",
      " [183 245 113]\n",
      " [ 78   0 130]]\n",
      "0.350903792857513\n",
      "0.5006675567423231\n",
      "SINGLE\n",
      "[[261 245 243]\n",
      " [  0   0   0]\n",
      " [  0   0   0]]\n",
      "0.12142759103816214\n",
      "0.3484646194926569\n",
      "AVERAGE\n"
     ]
    },
    {
     "name": "stderr",
     "output_type": "stream",
     "text": [
      "/home/steve/anaconda3/lib/python3.7/site-packages/sklearn/metrics/classification.py:1437: UndefinedMetricWarning: Precision is ill-defined and being set to 0.0 in labels with no predicted samples.\n",
      "  'precision', 'predicted', average, warn_for)\n",
      "/home/steve/anaconda3/lib/python3.7/site-packages/sklearn/metrics/classification.py:1437: UndefinedMetricWarning: Precision is ill-defined and being set to 0.0 in labels with no predicted samples.\n",
      "  'precision', 'predicted', average, warn_for)\n"
     ]
    },
    {
     "name": "stdout",
     "output_type": "stream",
     "text": [
      "[[261 245 243]\n",
      " [  0   0   0]\n",
      " [  0   0   0]]\n",
      "0.12142759103816214\n",
      "0.3484646194926569\n",
      "WARD\n",
      "[[252  14 143]\n",
      " [  3 230   1]\n",
      " [  6   1  99]]\n",
      "0.8392210039278576\n",
      "0.7757009345794392\n"
     ]
    },
    {
     "name": "stderr",
     "output_type": "stream",
     "text": [
      "/home/steve/anaconda3/lib/python3.7/site-packages/sklearn/metrics/classification.py:1437: UndefinedMetricWarning: Precision is ill-defined and being set to 0.0 in labels with no predicted samples.\n",
      "  'precision', 'predicted', average, warn_for)\n"
     ]
    }
   ],
   "source": [
    "agglomerative(X,true_labels,'complete')\n",
    "agglomerative(X,true_labels,'single')\n",
    "agglomerative(X,true_labels,'average')\n",
    "agglomerative(X,true_labels,'ward')"
   ]
  },
  {
   "cell_type": "markdown",
   "metadata": {},
   "source": [
    "### Υπολογισμός Inertia και Silhouette Score για διάφορες τιμές κέντρων για τον K-means"
   ]
  },
  {
   "cell_type": "code",
   "execution_count": 22,
   "metadata": {},
   "outputs": [
    {
     "data": {
      "text/plain": [
       "Text(0, 0.5, 'Error')"
      ]
     },
     "execution_count": 22,
     "metadata": {},
     "output_type": "execute_result"
    }
   ],
   "source": [
    "import matplotlib.pyplot as plt\n",
    "error = np.zeros(11)\n",
    "sh_score = np.zeros(11)\n",
    "for k in range(1,11):\n",
    "    kmeans = sk_cluster.KMeans(init='k-means++', n_clusters=k, n_init=10)\n",
    "    kmeans.fit_predict(X)\n",
    "    error[k] = kmeans.inertia_\n",
    "    if k>1: sh_score[k]= metrics.silhouette_score(X, kmeans.labels_)\n",
    "\n",
    "plt.plot(range(1,len(error)),error[1:])\n",
    "plt.xlabel('Number of clusters')\n",
    "plt.ylabel('Error')"
   ]
  },
  {
   "cell_type": "markdown",
   "metadata": {},
   "source": [
    "Μπορεί να είναι καλό clustering στην περίπτωση που έχουμε 4 κέντρα"
   ]
  },
  {
   "cell_type": "code",
   "execution_count": 23,
   "metadata": {},
   "outputs": [
    {
     "data": {
      "text/plain": [
       "Text(0, 0.5, 'silhouette score')"
      ]
     },
     "execution_count": 23,
     "metadata": {},
     "output_type": "execute_result"
    },
    {
     "data": {
      "image/png": "[encoded data removed]",
      "text/plain": [
       "<Figure size 432x288 with 1 Axes>"
      ]
     },
     "metadata": {
      "needs_background": "light"
     },
     "output_type": "display_data"
    }
   ],
   "source": [
    "plt.plot(range(2,len(sh_score)),sh_score[2:])\n",
    "plt.xlabel('Number of clusters')\n",
    "plt.ylabel('silhouette score')"
   ]
  },
  {
   "cell_type": "markdown",
   "metadata": {},
   "source": [
    "Από το διάγραμμα του shilhouette score βλέπουμε πως η τιμή του μεγιστοποιείται για αριθμό από clusters ίσο με 5.\n",
    "Από το διάγραμμα του inertia-error ότι για αριθμό κέντρων μεγαλύτερο του 4, το σφάλμα πέφτει πολύ.\n",
    "Συνδοιάζοντας την πληροφορία από τα 2 διαγράμματα θα έλεγε κανείς πως μια καλή τιμή για clustering ίσως να ήταν το 5."
   ]
  },
  {
   "cell_type": "markdown",
   "metadata": {},
   "source": [
    "### K-means για Κ=5"
   ]
  },
  {
   "cell_type": "code",
   "execution_count": 24,
   "metadata": {},
   "outputs": [
    {
     "data": {
      "text/plain": [
       "array([2, 2, 0, 3, 2, 3, 3, 0, 1, 3, 3, 3, 3, 3, 0, 1, 2, 2, 3, 2, 2, 3,\n",
       "       0, 1, 0, 0, 3, 1, 3, 2, 1, 3, 0, 4, 2, 0, 0, 4, 2, 3, 4, 3, 0, 1,\n",
       "       2, 0, 0, 3, 2, 2, 3, 3, 1, 2, 3, 3, 2, 3, 3, 1, 3, 3, 4, 3, 1, 2,\n",
       "       2, 3, 1, 3, 3, 2, 3, 3, 3, 3, 3, 3, 3, 3, 3, 2, 3, 2, 3, 3, 2, 3,\n",
       "       2, 2, 2, 2, 1, 3, 2, 2, 3, 2, 3, 2, 3, 3, 1, 2, 3, 2, 1, 2, 3, 3,\n",
       "       3, 3, 3, 1, 3, 0, 2, 0, 0, 3, 1, 3, 3, 2, 3, 2, 0, 2, 3, 0, 2, 3,\n",
       "       4, 2, 3, 3, 0, 4, 3, 1, 1, 4, 2, 2, 0, 3, 2, 2, 2, 2, 1, 2, 2, 4,\n",
       "       2, 1, 2, 2, 2, 3, 1, 1, 2, 2, 2, 2, 0, 2, 3, 1, 2, 3, 3, 0, 3, 2,\n",
       "       2, 2, 1, 1, 3, 4, 2, 3, 2, 0, 0, 3, 0, 3, 3, 1, 3, 3, 0, 1, 3, 3,\n",
       "       3, 3, 3, 2, 3, 3, 3, 3, 3, 2, 2, 3, 3, 3, 3, 2, 1, 2, 3, 3, 2, 0,\n",
       "       4, 3, 3, 2, 0, 0, 2, 3, 0, 0, 2, 1, 3, 0, 3, 3, 2, 2, 2, 2, 2, 3,\n",
       "       2, 2, 0, 3, 2, 3, 3, 2, 2, 2, 2, 0, 2, 2, 3, 2, 3, 2, 3, 3, 3, 2,\n",
       "       1, 1, 3, 2, 3, 3, 0, 3, 0, 3, 4, 3, 2, 3, 1, 3, 3, 3, 4, 3, 1, 3,\n",
       "       2, 2, 2, 3, 3, 3, 3, 2, 2, 4, 3, 3, 3, 0, 3, 2, 3, 3, 2, 2, 2, 2,\n",
       "       2, 0, 2, 1, 3, 2, 2, 1, 2, 2, 2, 2, 2, 2, 0, 3, 0, 2, 2, 3, 3, 2,\n",
       "       2, 2, 2, 0, 2, 2, 3, 3, 3, 2, 2, 0, 2, 1, 2, 1, 1, 1, 2, 1, 2, 3,\n",
       "       0, 0, 0, 3, 3, 4, 4, 3, 0, 3, 3, 3, 1, 2, 3, 0, 0, 3, 3, 1, 3, 3,\n",
       "       1, 3, 2, 2, 2, 2, 4, 3, 0, 2, 2, 2, 3, 3, 1, 2, 3, 2, 0, 3, 2, 2,\n",
       "       0, 3, 2, 3, 0, 3, 0, 2, 2, 3, 1, 2, 0, 0, 3, 2, 0, 1, 2, 3, 3, 3,\n",
       "       2, 3, 4, 3, 0, 3, 3, 1, 2, 3, 3, 3, 3, 3, 2, 3, 2, 0, 3, 3, 2, 2,\n",
       "       1, 0, 3, 2, 3, 3, 0, 2, 3, 3, 0, 3, 3, 0, 2, 2, 3, 3, 2, 2, 2, 3,\n",
       "       0, 2, 3, 0, 3, 2, 3, 4, 1, 2, 2, 2, 3, 2, 2, 3, 0, 3, 0, 0, 3, 3,\n",
       "       0, 0, 3, 2, 2, 2, 4, 2, 3, 2, 4, 2, 3, 3, 3, 3, 3, 2, 3, 0, 3, 4,\n",
       "       0, 0, 0, 3, 2, 2, 2, 2, 3, 3, 3, 3, 2, 3, 1, 3, 3, 2, 0, 2, 3, 3,\n",
       "       2, 2, 3, 2, 0, 2, 2, 3, 3, 2, 3, 0, 2, 2, 2, 2, 3, 3, 2, 0, 2, 1,\n",
       "       0, 2, 1, 2, 2, 2, 3, 0, 0, 0, 2, 0, 3, 1, 0, 3, 2, 2, 0, 3, 2, 3,\n",
       "       2, 3, 0, 3, 2, 1, 2, 3, 3, 3, 3, 0, 4, 3, 3, 3, 4, 3, 0, 0, 3, 0,\n",
       "       3, 3, 3, 3, 0, 3, 3, 1, 2, 3, 2, 2, 2, 3, 2, 2, 2, 2, 2, 4, 2, 2,\n",
       "       2, 0, 3, 2, 3, 3, 0, 2, 0, 0, 0, 2, 3, 2, 4, 1, 2, 1, 3, 1, 0, 3,\n",
       "       2, 4, 3, 2, 3, 1, 3, 2, 2, 3, 4, 2, 2, 2, 3, 3, 1, 3, 3, 2, 3, 3,\n",
       "       2, 0, 2, 2, 3, 3, 0, 3, 0, 1, 3, 2, 3, 0, 3, 3, 3, 0, 2, 2, 0, 2,\n",
       "       2, 2, 2, 2, 2, 1, 4, 3, 1, 2, 3, 1, 4, 2, 1, 2, 0, 1, 2, 2, 2, 3,\n",
       "       3, 2, 3, 2, 3, 3, 3, 2, 0, 2, 3, 3, 3, 1, 1, 1, 3, 2, 3, 1, 3, 2,\n",
       "       1, 3, 3, 3, 3, 3, 3, 3, 3, 3, 2, 0, 3, 0, 3, 3, 3, 3, 0, 2, 2, 2,\n",
       "       3], dtype=int32)"
      ]
     },
     "execution_count": 24,
     "metadata": {},
     "output_type": "execute_result"
    }
   ],
   "source": [
    "k=5\n",
    "kmeans = sk_cluster.KMeans(n_clusters=k, init='k-means++', max_iter=100, n_init=1)\n",
    "kmeans.fit_predict(X)"
   ]
  },
  {
   "cell_type": "code",
   "execution_count": 25,
   "metadata": {},
   "outputs": [
    {
     "name": "stdout",
     "output_type": "stream",
     "text": [
      "[[241   3  49]\n",
      " [  8 241   2]\n",
      " [ 12   1 192]]\n",
      "[0.8225256  0.96015936 0.93658537]\n",
      "[0.92337165 0.98367347 0.79012346]\n",
      "0.9045506924092287\n",
      "0.8998664886515354\n"
     ]
    }
   ],
   "source": [
    "mapped_kmeans_labels,C = cluster_class_mapping(kmeans.labels_,true_labels)\n",
    "print(C)\n",
    "scores(true_labels,mapped_kmeans_labels)"
   ]
  },
  {
   "cell_type": "markdown",
   "metadata": {},
   "source": [
    "#### Σχολιασμός αποτελέσματος για K-means με Κ=5 \n",
    "* Ο k-means με 5 κέντρα δίνει καλύτερη κατηγοριοποίηση σε σύγκριση με αυτόν με 3. Ο λόγος είναι ότι μπορεί να έχουμε περισσότερα κέντρα αλλά αυτά τα κέντρα που είναι πιο όμοια μεταξύ τους κρατάνε μέσα στο cluster τους σημεία(επιχειρήσεις) που μπορεί να κέρδιζαν άλλα cluster λιγότερο σχετικά ως προς την κατηγορία του σημείου."
   ]
  },
  {
   "cell_type": "code",
   "execution_count": 26,
   "metadata": {},
   "outputs": [
    {
     "name": "stdout",
     "output_type": "stream",
     "text": [
      "Top terms per cluster:\n",
      "Cluster 0:\n",
      " hair\n",
      " cut\n",
      " haircut\n",
      " salon\n",
      " barber\n",
      " stylist\n",
      " great\n",
      " time\n",
      " appointment\n",
      " place\n",
      "Cluster 1:\n",
      " nails\n",
      " nail\n",
      " shellac\n",
      " manicure\n",
      " pedicure\n",
      " polish\n",
      " salon\n",
      " pedi\n",
      " mani\n",
      " place\n",
      "Cluster 2:\n",
      " food\n",
      " bar\n",
      " place\n",
      " good\n",
      " drinks\n",
      " great\n",
      " beer\n",
      " menu\n",
      " night\n",
      " like\n",
      "Cluster 3:\n",
      " store\n",
      " service\n",
      " like\n",
      " just\n",
      " place\n",
      " great\n",
      " time\n",
      " staff\n",
      " customer\n",
      " shop\n",
      "Cluster 4:\n",
      " massage\n",
      " spa\n",
      " facial\n",
      " skin\n",
      " room\n",
      " treatment\n",
      " place\n",
      " time\n",
      " relaxing\n",
      " like\n"
     ]
    }
   ],
   "source": [
    "print(\"Top terms per cluster:\")\n",
    "asc_order_centroids = kmeans.cluster_centers_.argsort()#[:, ::-1]\n",
    "order_centroids = asc_order_centroids[:,::-1]\n",
    "terms = vectorizer.get_feature_names()\n",
    "for i in range(k):\n",
    "    print (\"Cluster %d:\" % i)\n",
    "    for ind in order_centroids[i, :10]:\n",
    "        print (' %s' % terms[ind])"
   ]
  },
  {
   "cell_type": "code",
   "execution_count": 27,
   "metadata": {},
   "outputs": [
    {
     "name": "stdout",
     "output_type": "stream",
     "text": [
      "[[0.00448594 0.01648837 0.00685435 ... 0.0102945  0.00576658 0.00043383]\n",
      " [0.00765064 0.02151299 0.00640749 ... 0.0066903  0.00371763 0.00055219]\n",
      " [0.00427834 0.02292442 0.00244007 ... 0.00433059 0.00636499 0.00896684]\n",
      " [0.00478382 0.0190339  0.01150149 ... 0.00692566 0.0078619  0.00074924]\n",
      " [0.00809307 0.0113503  0.01519439 ... 0.01190871 0.00428403 0.00059157]]\n"
     ]
    }
   ],
   "source": [
    "print(kmeans.cluster_centers_)"
   ]
  },
  {
   "cell_type": "markdown",
   "metadata": {},
   "source": [
    "### Υπολογισμός των αποστάσεων μεταξύ των κέντρων"
   ]
  },
  {
   "cell_type": "code",
   "execution_count": 28,
   "metadata": {},
   "outputs": [
    {
     "name": "stdout",
     "output_type": "stream",
     "text": [
      "429.03420715047224\n"
     ]
    }
   ],
   "source": [
    "center_distances(kmeans)\n",
    "print(kmeans.inertia_)"
   ]
  },
  {
   "cell_type": "markdown",
   "metadata": {},
   "source": [
    "#### Ερώτηση 3 (2)\n",
    "* Δεδομένου ότι το intertia είναι σχετικά μικρό για αριθμό clusters ίσο με 5 σημαίνει ότι υπάρχει σχετικά καλό coherency των σημείων μέσα στο κάθε cluster, σε συνδιασμό με αυτό η σχετικά μεγάλες αποστάσεις μεταξύ των κέντρων του κάθε cluster δίνει μια πιο λεπτομερή κατηγοριοποίηση μεταξύ των επιχειρήσεων η οποία κατηγοριοποίηση λαμβάνει υπόψιν της και επιμέρους διαφοροποιήσεις ανάμεσα σε επιχειρήσεις που μπορεί να ανήκουν στην ίδια κατηγορία αλλά ανήκουν και σε άλλες."
   ]
  }
 ],
 "metadata": {
  "kernelspec": {
   "display_name": "Python 3",
   "language": "python",
   "name": "python3"
  },
  "language_info": {
   "codemirror_mode": {
    "name": "ipython",
    "version": 3
   },
   "file_extension": ".py",
   "mimetype": "text/x-python",
   "name": "python",
   "nbconvert_exporter": "python",
   "pygments_lexer": "ipython3",
   "version": "3.7.4"
  }
 },
 "nbformat": 4,
 "nbformat_minor": 4
}
