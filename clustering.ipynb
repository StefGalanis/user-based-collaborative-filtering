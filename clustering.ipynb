{
 "cells": [
  {
   "cell_type": "code",
   "execution_count": 1,
   "metadata": {},
   "outputs": [],
   "source": [
    "import json\n",
    "import sys\n",
    "import copy"
   ]
  },
  {
   "cell_type": "code",
   "execution_count": 2,
   "metadata": {},
   "outputs": [
    {
     "name": "stdout",
     "output_type": "stream",
     "text": [
      "749\n"
     ]
    }
   ],
   "source": [
    "business_file = open('yelp_dataset/yelp_academic_dataset_business.json')\n",
    "\n",
    "categories = ['Beauty & Spas','Shopping','Bars']\n",
    "categories_list = categories.copy()\n",
    "categories = set(categories)\n",
    "filtered_business = {}\n",
    "filtered_business_categories = {}\n",
    "\n",
    "for line in business_file:\n",
    "    business = json.loads(line)\n",
    "    if business['city'] == 'Toronto' and int(business['review_count']) >= 10:\n",
    "        business_categories = business['categories']\n",
    "        filtered_business_categories[business['business_id']] = business['categories']\n",
    "        if business_categories is not None:\n",
    "            business_categories = business_categories.split(',')\n",
    "            business_categories = set(business_categories)\n",
    "            if len(categories.intersection(business_categories)) > 0:\n",
    "                common_elements = categories.intersection(business_categories)\n",
    "                common_elements = list(common_elements)\n",
    "                if categories_list[0] in common_elements:\n",
    "                    filtered_business[business['business_id']] = categories_list[0]\n",
    "                elif categories_list[1] in common_elements:\n",
    "                    filtered_business[business['business_id']] = categories_list[1]\n",
    "                elif categories_list[2] in common_elements:\n",
    "                    filtered_business[business['business_id']] = categories_list[2]\n",
    "print(len(filtered_business))\n",
    "business_file.close()"
   ]
  },
  {
   "cell_type": "code",
   "execution_count": 3,
   "metadata": {},
   "outputs": [],
   "source": [
    "reviews_file = open('yelp_dataset/yelp_academic_dataset_review.json')\n",
    "reviews = {}\n",
    "for line in reviews_file:\n",
    "    review = json.loads(line)\n",
    "    if review['business_id'] in filtered_business.keys():\n",
    "        value = reviews.get(review['business_id'])\n",
    "        if value is None :\n",
    "            reviews[review['business_id']] = review['text']\n",
    "        else:\n",
    "            reviews[review['business_id']] += ' ' + review['text']\n",
    "reviews_file.close()"
   ]
  },
  {
   "cell_type": "code",
   "execution_count": 4,
   "metadata": {},
   "outputs": [
    {
     "name": "stdout",
     "output_type": "stream",
     "text": [
      "749\n"
     ]
    }
   ],
   "source": [
    "reviews_list = []\n",
    "for key, value in reviews.items():\n",
    "    temp = [key,value,filtered_business[key]]\n",
    "    reviews_list.append(temp)\n",
    "print(len(reviews_list))"
   ]
  },
  {
   "cell_type": "code",
   "execution_count": 5,
   "metadata": {},
   "outputs": [],
   "source": [
    "review_ids,corpus,target = zip(*reviews_list)"
   ]
  },
  {
   "cell_type": "code",
   "execution_count": 6,
   "metadata": {},
   "outputs": [],
   "source": [
    "import sklearn.feature_extraction.text as sk_text"
   ]
  },
  {
   "cell_type": "code",
   "execution_count": 7,
   "metadata": {},
   "outputs": [
    {
     "name": "stdout",
     "output_type": "stream",
     "text": [
      "[[0.00658072 0.02450147 0.00404368 ... 0.         0.00560579 0.01470713]\n",
      " [0.         0.         0.         ... 0.         0.00651807 0.00855028]\n",
      " [0.00494784 0.01210582 0.01135053 ... 0.00129321 0.         0.        ]\n",
      " ...\n",
      " [0.02787523 0.01482652 0.         ... 0.         0.         0.        ]\n",
      " [0.         0.         0.         ... 0.         0.         0.        ]\n",
      " [0.         0.         0.03989281 ... 0.         0.         0.        ]]\n",
      "<bound method spmatrix.get_shape of <749x1000 sparse matrix of type '<class 'numpy.float64'>'\n",
      "\twith 282220 stored elements in Compressed Sparse Row format>>\n"
     ]
    }
   ],
   "source": [
    "vectorizer = sk_text.TfidfVectorizer(min_df=1,stop_words = 'english',max_features=1000) #min_df = 0.05\n",
    "X = vectorizer.fit_transform(corpus)\n",
    "print(X.toarray())\n",
    "print(X.get_shape)"
   ]
  },
  {
   "cell_type": "code",
   "execution_count": 8,
   "metadata": {},
   "outputs": [],
   "source": [
    "#print (vectorizer.get_feature_names())"
   ]
  },
  {
   "cell_type": "markdown",
   "metadata": {},
   "source": [
    "Παίρνω το index των σημείων που ανήκουν στο αντίστοιχο cluster"
   ]
  },
  {
   "cell_type": "code",
   "execution_count": 9,
   "metadata": {},
   "outputs": [],
   "source": [
    "import sklearn.cluster as sk_cluster"
   ]
  },
  {
   "cell_type": "code",
   "execution_count": 10,
   "metadata": {},
   "outputs": [],
   "source": [
    "def categories_statistics(predictions,reviews_list,filtered_business_categories):\n",
    "    idxArray = np.where(predictions == 2)\n",
    "    for index in idxArray:\n",
    "        #business_id = reviews_list[idxArray[0][1]][0]\n",
    "        business_id = reviews_list[index][0]\n",
    "        print(filtered_business_categories[business_id])\n",
    "#print(reviews_list[idxArray[0][1]][1])\n",
    "#print(np.where(predictions == 2))"
   ]
  },
  {
   "cell_type": "code",
   "execution_count": 17,
   "metadata": {},
   "outputs": [],
   "source": [
    "from sklearn import metrics\n",
    "import numpy as np\n",
    "import scipy.spatial.distance as sp_dist"
   ]
  },
  {
   "cell_type": "code",
   "execution_count": 19,
   "metadata": {},
   "outputs": [],
   "source": [
    "def scores(true_labels,mapped_kmeans_labels):    \n",
    "    p = metrics.precision_score(true_labels,mapped_kmeans_labels, average=None)\n",
    "    print(p)\n",
    "    r = metrics.recall_score(true_labels,mapped_kmeans_labels, average = None)\n",
    "    print(r)\n",
    "    p = metrics.precision_score(true_labels,mapped_kmeans_labels, average='weighted')\n",
    "    print(p)\n",
    "    r = metrics.recall_score(true_labels,mapped_kmeans_labels, average = 'weighted')\n",
    "    print(r)"
   ]
  },
  {
   "cell_type": "code",
   "execution_count": 20,
   "metadata": {},
   "outputs": [],
   "source": [
    "def cluster_class_mapping(kmeans_labels,true_labels):\n",
    "    C= metrics.confusion_matrix(kmeans_labels,true_labels)\n",
    "    mapping = list(np.argmax(C,axis=1)) #for each row (cluster) find the best class in the confusion matrix\n",
    "    mapped_kmeans_labels = [mapping[l] for l in kmeans_labels]\n",
    "    C2= metrics.confusion_matrix(mapped_kmeans_labels,true_labels)\n",
    "    return mapped_kmeans_labels,C2"
   ]
  },
  {
   "cell_type": "code",
   "execution_count": 22,
   "metadata": {},
   "outputs": [],
   "source": [
    "def center_distances(kmeans):\n",
    "    D = sp_dist.pdist(kmeans.cluster_centers_, 'euclidean') \n",
    "    print(D)\n",
    "    distances_array = sp_dist.squareform(D)\n",
    "    print(sp_dist.squareform(D))\n",
    "    return sp_dist.squareform(D)"
   ]
  },
  {
   "cell_type": "code",
   "execution_count": 41,
   "metadata": {},
   "outputs": [
    {
     "data": {
      "text/plain": [
       "array([2, 2, 0, 1, 2, 1, 1, 0, 1, 1, 1, 1, 1, 1, 0, 1, 2, 2, 1, 2, 2, 1,\n",
       "       0, 1, 0, 0, 1, 1, 1, 2, 1, 1, 0, 1, 2, 0, 0, 1, 2, 1, 1, 1, 0, 1,\n",
       "       2, 0, 0, 1, 2, 2, 1, 1, 1, 2, 1, 1, 2, 1, 1, 1, 1, 1, 1, 1, 1, 2,\n",
       "       2, 1, 1, 1, 1, 2, 1, 1, 1, 1, 1, 1, 1, 1, 1, 2, 1, 2, 1, 1, 2, 1,\n",
       "       2, 2, 2, 2, 1, 1, 2, 2, 1, 2, 1, 2, 1, 1, 1, 2, 1, 2, 1, 2, 1, 1,\n",
       "       1, 1, 1, 1, 1, 0, 2, 0, 0, 1, 1, 1, 1, 2, 1, 2, 0, 2, 1, 0, 2, 1,\n",
       "       1, 2, 1, 1, 0, 1, 1, 1, 1, 1, 2, 2, 0, 1, 2, 2, 2, 2, 1, 2, 2, 1,\n",
       "       2, 1, 2, 2, 2, 1, 1, 1, 2, 2, 2, 2, 0, 2, 1, 1, 2, 1, 1, 0, 1, 2,\n",
       "       2, 2, 1, 1, 1, 1, 2, 1, 2, 0, 0, 1, 0, 1, 1, 1, 1, 1, 0, 1, 1, 1,\n",
       "       1, 1, 1, 2, 1, 1, 1, 1, 1, 2, 2, 1, 1, 1, 1, 2, 1, 2, 1, 1, 2, 0,\n",
       "       1, 1, 1, 2, 0, 0, 2, 1, 0, 0, 2, 1, 1, 0, 1, 1, 2, 2, 2, 2, 2, 1,\n",
       "       2, 2, 0, 1, 2, 1, 1, 2, 2, 2, 2, 0, 2, 2, 1, 2, 1, 2, 1, 1, 1, 2,\n",
       "       1, 1, 1, 2, 1, 1, 0, 1, 0, 1, 1, 1, 2, 1, 1, 1, 1, 1, 1, 1, 1, 1,\n",
       "       2, 2, 2, 1, 1, 1, 1, 2, 2, 1, 1, 1, 1, 0, 1, 2, 1, 1, 2, 2, 2, 2,\n",
       "       2, 0, 2, 1, 1, 2, 2, 1, 2, 2, 2, 2, 2, 2, 0, 1, 0, 2, 2, 1, 1, 2,\n",
       "       2, 2, 2, 0, 2, 2, 1, 1, 1, 2, 2, 0, 2, 1, 2, 1, 1, 1, 2, 1, 2, 1,\n",
       "       0, 0, 0, 1, 1, 1, 1, 1, 0, 1, 1, 1, 1, 2, 1, 0, 0, 1, 1, 1, 1, 1,\n",
       "       1, 1, 2, 2, 2, 2, 1, 1, 0, 2, 2, 2, 1, 1, 1, 2, 1, 2, 0, 1, 2, 2,\n",
       "       0, 1, 2, 1, 0, 1, 0, 2, 2, 1, 1, 2, 0, 0, 1, 2, 0, 1, 2, 1, 1, 1,\n",
       "       2, 1, 1, 1, 0, 1, 1, 1, 2, 1, 1, 1, 1, 1, 2, 1, 2, 0, 1, 1, 2, 2,\n",
       "       1, 0, 1, 2, 1, 1, 0, 1, 1, 1, 0, 1, 1, 0, 2, 2, 1, 1, 2, 2, 2, 1,\n",
       "       0, 2, 1, 0, 1, 2, 1, 1, 1, 2, 2, 2, 1, 2, 2, 1, 0, 1, 0, 0, 1, 1,\n",
       "       0, 0, 1, 2, 2, 2, 1, 2, 1, 2, 1, 2, 1, 1, 1, 1, 1, 2, 1, 0, 1, 1,\n",
       "       0, 0, 0, 1, 2, 2, 2, 2, 1, 1, 1, 1, 2, 1, 1, 1, 1, 2, 0, 2, 1, 1,\n",
       "       2, 2, 1, 2, 0, 2, 2, 1, 1, 2, 1, 0, 2, 2, 2, 2, 1, 1, 2, 0, 2, 1,\n",
       "       0, 2, 1, 2, 2, 2, 1, 0, 0, 0, 2, 0, 1, 1, 0, 1, 2, 2, 0, 1, 2, 1,\n",
       "       2, 1, 0, 1, 2, 1, 2, 1, 1, 1, 1, 0, 1, 1, 1, 1, 1, 1, 0, 0, 1, 0,\n",
       "       1, 1, 1, 1, 0, 1, 1, 1, 2, 1, 2, 2, 2, 1, 2, 2, 2, 2, 2, 1, 2, 2,\n",
       "       2, 0, 1, 2, 1, 1, 0, 2, 0, 0, 0, 2, 1, 2, 1, 1, 2, 1, 1, 1, 0, 1,\n",
       "       2, 1, 1, 2, 1, 1, 1, 2, 2, 1, 1, 2, 2, 2, 1, 1, 1, 1, 1, 2, 1, 1,\n",
       "       2, 0, 2, 2, 1, 1, 0, 1, 0, 1, 1, 2, 1, 0, 1, 1, 1, 0, 2, 2, 0, 2,\n",
       "       2, 2, 2, 2, 2, 1, 1, 1, 1, 2, 1, 1, 1, 2, 1, 2, 0, 1, 2, 2, 2, 1,\n",
       "       1, 2, 1, 2, 1, 1, 1, 2, 0, 2, 1, 1, 1, 1, 1, 1, 1, 2, 1, 1, 1, 2,\n",
       "       1, 1, 1, 1, 1, 1, 1, 1, 1, 1, 2, 0, 1, 0, 1, 1, 1, 1, 0, 2, 2, 2,\n",
       "       1], dtype=int32)"
      ]
     },
     "execution_count": 41,
     "metadata": {},
     "output_type": "execute_result"
    }
   ],
   "source": [
    "k=3\n",
    "kmeans = sk_cluster.KMeans(init='k-means++', n_clusters=k, n_init=10)\n",
    "kmeans.fit_predict(X)"
   ]
  },
  {
   "cell_type": "code",
   "execution_count": 16,
   "metadata": {},
   "outputs": [],
   "source": [
    "true_labels = []\n",
    "for idx,item in enumerate(target):\n",
    "    if item == 'Shopping':\n",
    "        true_labels.append(0)\n",
    "    elif item == 'Bars':\n",
    "        true_labels.append(1)\n",
    "    elif item == 'Beauty & Spas':\n",
    "        true_labels.append(2)"
   ]
  },
  {
   "cell_type": "code",
   "execution_count": 42,
   "metadata": {},
   "outputs": [
    {
     "name": "stdout",
     "output_type": "stream",
     "text": [
      "[[247   3 143]\n",
      " [  8 241   1]\n",
      " [  6   1  99]]\n",
      "[0.62849873 0.964      0.93396226]\n",
      "[0.94636015 0.98367347 0.40740741]\n",
      "0.8373444567791863\n",
      "0.7837116154873164\n"
     ]
    }
   ],
   "source": [
    "mapped_kmeans_labels,C = cluster_class_mapping(kmeans.labels_,true_labels)\n",
    "print(C)\n",
    "scores(true_labels,mapped_kmeans_labels)"
   ]
  },
  {
   "cell_type": "code",
   "execution_count": 56,
   "metadata": {},
   "outputs": [
    {
     "name": "stdout",
     "output_type": "stream",
     "text": [
      "143\n"
     ]
    }
   ],
   "source": [
    "true_labels_np = np.array(true_labels)\n",
    "idx_true = np.where(true_labels_np == 2)\n",
    "predicted_labels_np = np.array(mapped_kmeans_labels)\n",
    "idx_predicted = np.where(predicted_labels_np == 0)\n",
    "intersection = np.intersect1d(idx_true, idx_predicted)\n",
    "print(len(intersection))"
   ]
  },
  {
   "cell_type": "code",
   "execution_count": 15,
   "metadata": {},
   "outputs": [
    {
     "name": "stdout",
     "output_type": "stream",
     "text": [
      "Top terms per cluster:\n",
      "Cluster 0:\n",
      " food\n",
      " bar\n",
      " place\n",
      " good\n",
      " drinks\n",
      " great\n",
      " beer\n",
      " menu\n",
      " night\n",
      " like\n",
      "Cluster 1:\n",
      " hair\n",
      " cut\n",
      " haircut\n",
      " salon\n",
      " barber\n",
      " stylist\n",
      " great\n",
      " time\n",
      " appointment\n",
      " place\n",
      "Cluster 2:\n",
      " store\n",
      " nails\n",
      " place\n",
      " time\n",
      " service\n",
      " like\n",
      " just\n",
      " great\n",
      " nail\n",
      " staff\n"
     ]
    }
   ],
   "source": [
    "print(\"Top terms per cluster:\")\n",
    "asc_order_centroids = kmeans.cluster_centers_.argsort()#[:, ::-1]\n",
    "order_centroids = asc_order_centroids[:,::-1]\n",
    "terms = vectorizer.get_feature_names()\n",
    "for i in range(k):\n",
    "    print (\"Cluster %d:\" % i)\n",
    "    for ind in order_centroids[i, :10]:\n",
    "        print (' %s' % terms[ind])"
   ]
  },
  {
   "cell_type": "code",
   "execution_count": 24,
   "metadata": {},
   "outputs": [],
   "source": [
    "def agglomerative(X,true_labels,linkage):\n",
    "    print(str.upper(linkage))\n",
    "    agglo = sk_cluster.AgglomerativeClustering(linkage=linkage, n_clusters = 3)\n",
    "    agglo_labels = agglo.fit_predict(X.toarray())\n",
    "    C_agglo= metrics.confusion_matrix(agglo_labels,true_labels)\n",
    "    mapped_agglo_labels,C_agglo = cluster_class_mapping(agglo_labels,true_labels)\n",
    "    print(C_agglo)\n",
    "    p = metrics.precision_score(true_labels,mapped_agglo_labels, average='weighted')\n",
    "    print(p)\n",
    "    r = metrics.recall_score(true_labels,mapped_agglo_labels, average = 'weighted')\n",
    "    print(r)"
   ]
  },
  {
   "cell_type": "code",
   "execution_count": 25,
   "metadata": {},
   "outputs": [
    {
     "name": "stdout",
     "output_type": "stream",
     "text": [
      "COMPLETE\n",
      "[[  0   0   0]\n",
      " [183 245 113]\n",
      " [ 78   0 130]]\n",
      "0.350903792857513\n",
      "0.5006675567423231\n",
      "SINGLE\n",
      "[[261 245 243]\n",
      " [  0   0   0]\n",
      " [  0   0   0]]\n",
      "0.12142759103816214\n",
      "0.3484646194926569\n",
      "AVERAGE\n"
     ]
    },
    {
     "name": "stderr",
     "output_type": "stream",
     "text": [
      "/home/steve/anaconda3/lib/python3.7/site-packages/sklearn/metrics/classification.py:1437: UndefinedMetricWarning: Precision is ill-defined and being set to 0.0 in labels with no predicted samples.\n",
      "  'precision', 'predicted', average, warn_for)\n",
      "/home/steve/anaconda3/lib/python3.7/site-packages/sklearn/metrics/classification.py:1437: UndefinedMetricWarning: Precision is ill-defined and being set to 0.0 in labels with no predicted samples.\n",
      "  'precision', 'predicted', average, warn_for)\n"
     ]
    },
    {
     "name": "stdout",
     "output_type": "stream",
     "text": [
      "[[261 245 243]\n",
      " [  0   0   0]\n",
      " [  0   0   0]]\n",
      "0.12142759103816214\n",
      "0.3484646194926569\n",
      "WARD\n",
      "[[252  14 143]\n",
      " [  3 230   1]\n",
      " [  6   1  99]]\n",
      "0.8392210039278576\n",
      "0.7757009345794392\n"
     ]
    },
    {
     "name": "stderr",
     "output_type": "stream",
     "text": [
      "/home/steve/anaconda3/lib/python3.7/site-packages/sklearn/metrics/classification.py:1437: UndefinedMetricWarning: Precision is ill-defined and being set to 0.0 in labels with no predicted samples.\n",
      "  'precision', 'predicted', average, warn_for)\n"
     ]
    }
   ],
   "source": [
    "agglomerative(X,true_labels,'complete')\n",
    "agglomerative(X,true_labels,'single')\n",
    "agglomerative(X,true_labels,'average')\n",
    "agglomerative(X,true_labels,'ward')"
   ]
  },
  {
   "cell_type": "code",
   "execution_count": 26,
   "metadata": {},
   "outputs": [],
   "source": [
    "import matplotlib.pyplot as plt"
   ]
  },
  {
   "cell_type": "code",
   "execution_count": 27,
   "metadata": {},
   "outputs": [
    {
     "data": {
      "text/plain": [
       "Text(0, 0.5, 'Error')"
      ]
     },
     "execution_count": 27,
     "metadata": {},
     "output_type": "execute_result"
    },
    {
     "data": {
      "image/png": "[encoded data removed]",
      "text/plain": [
       "<Figure size 432x288 with 1 Axes>"
      ]
     },
     "metadata": {
      "needs_background": "light"
     },
     "output_type": "display_data"
    }
   ],
   "source": [
    "error = np.zeros(11)\n",
    "sh_score = np.zeros(11)\n",
    "for k in range(1,11):\n",
    "    kmeans = sk_cluster.KMeans(init='k-means++', n_clusters=k, n_init=10)\n",
    "    kmeans.fit_predict(X)\n",
    "    error[k] = kmeans.inertia_\n",
    "    if k>1: sh_score[k]= metrics.silhouette_score(X, kmeans.labels_)\n",
    "\n",
    "plt.plot(range(1,len(error)),error[1:])\n",
    "plt.xlabel('Number of clusters')\n",
    "plt.ylabel('Error')"
   ]
  },
  {
   "cell_type": "markdown",
   "metadata": {},
   "source": [
    "Μπορεί να είναι καλό clustering στην περίπτωση που έχουμε 4 κέντρα"
   ]
  },
  {
   "cell_type": "code",
   "execution_count": 28,
   "metadata": {},
   "outputs": [
    {
     "data": {
      "text/plain": [
       "Text(0, 0.5, 'silhouette score')"
      ]
     },
     "execution_count": 28,
     "metadata": {},
     "output_type": "execute_result"
    },
    {
     "data": {
      "image/png": "[encoded data removed]",
      "text/plain": [
       "<Figure size 432x288 with 1 Axes>"
      ]
     },
     "metadata": {
      "needs_background": "light"
     },
     "output_type": "display_data"
    }
   ],
   "source": [
    "plt.plot(range(2,len(sh_score)),sh_score[2:])\n",
    "plt.xlabel('Number of clusters')\n",
    "plt.ylabel('silhouette score')"
   ]
  },
  {
   "cell_type": "markdown",
   "metadata": {},
   "source": [
    "Από το διάγραμμα του shilhouette score βλέπουμε πως η τιμή του μεγιστοποιείται για αριθμό από clusters ίσο με 5.\n",
    "Από το διάγραμμα του inertia-error ότι για αριθμό κέντρων μεγαλύτερο του 4, το σφάλμα πέφτει πολύ.\n",
    "Συνδοιάζοντας την πληροφορία από τα 2 διαγράμματα θα έλεγε κανείς πως μια καλή τιμή για clustering ίσως να ήταν το 5."
   ]
  },
  {
   "cell_type": "code",
   "execution_count": 29,
   "metadata": {},
   "outputs": [
    {
     "data": {
      "text/plain": [
       "array([0, 0, 3, 1, 0, 1, 1, 3, 4, 1, 1, 1, 1, 1, 3, 4, 0, 0, 2, 0, 0, 1,\n",
       "       3, 4, 3, 3, 1, 4, 1, 0, 4, 1, 3, 1, 0, 3, 3, 1, 0, 1, 1, 1, 3, 4,\n",
       "       0, 3, 3, 1, 0, 0, 1, 1, 4, 0, 1, 1, 0, 1, 1, 4, 2, 1, 1, 1, 4, 0,\n",
       "       0, 1, 4, 1, 1, 0, 1, 1, 1, 1, 1, 1, 1, 1, 1, 0, 1, 0, 1, 1, 0, 1,\n",
       "       0, 0, 0, 0, 4, 1, 0, 0, 1, 0, 1, 0, 1, 1, 4, 0, 1, 0, 4, 0, 1, 1,\n",
       "       1, 1, 1, 4, 1, 3, 0, 3, 3, 1, 4, 1, 1, 0, 2, 0, 3, 0, 1, 3, 0, 1,\n",
       "       1, 0, 1, 1, 3, 1, 1, 4, 4, 1, 0, 0, 3, 1, 0, 0, 0, 0, 4, 0, 0, 1,\n",
       "       0, 4, 0, 0, 0, 1, 4, 4, 0, 0, 0, 0, 3, 0, 1, 4, 0, 1, 1, 3, 1, 0,\n",
       "       0, 0, 4, 4, 1, 1, 0, 1, 0, 3, 3, 1, 3, 1, 1, 4, 1, 1, 3, 4, 1, 1,\n",
       "       1, 1, 1, 0, 1, 1, 1, 1, 1, 0, 0, 1, 1, 1, 1, 0, 1, 0, 1, 1, 0, 3,\n",
       "       1, 1, 1, 0, 3, 3, 0, 1, 3, 3, 0, 4, 1, 3, 1, 1, 0, 0, 0, 0, 0, 1,\n",
       "       0, 0, 3, 1, 0, 1, 1, 0, 0, 0, 0, 3, 0, 0, 1, 0, 1, 0, 1, 1, 2, 0,\n",
       "       4, 4, 1, 0, 1, 1, 3, 1, 3, 2, 1, 2, 0, 1, 4, 1, 2, 1, 1, 1, 4, 1,\n",
       "       1, 0, 0, 1, 1, 1, 1, 0, 0, 1, 1, 1, 1, 3, 1, 0, 1, 1, 0, 0, 0, 0,\n",
       "       0, 3, 0, 4, 1, 0, 0, 4, 0, 0, 0, 0, 0, 0, 3, 1, 3, 0, 0, 1, 1, 0,\n",
       "       0, 0, 0, 3, 0, 0, 1, 1, 2, 0, 0, 3, 0, 4, 0, 4, 4, 4, 0, 4, 0, 1,\n",
       "       3, 3, 3, 1, 1, 1, 1, 1, 3, 1, 1, 2, 4, 0, 1, 3, 3, 1, 1, 4, 1, 1,\n",
       "       4, 1, 0, 0, 0, 0, 1, 1, 3, 0, 0, 0, 1, 1, 4, 0, 1, 0, 3, 1, 0, 0,\n",
       "       3, 1, 0, 1, 3, 2, 3, 0, 0, 1, 4, 0, 3, 3, 1, 0, 3, 4, 0, 1, 1, 1,\n",
       "       0, 1, 1, 1, 3, 1, 1, 4, 0, 1, 1, 1, 1, 1, 0, 1, 0, 3, 1, 1, 0, 0,\n",
       "       4, 3, 1, 0, 1, 1, 3, 1, 1, 1, 3, 2, 1, 3, 0, 0, 1, 1, 0, 0, 0, 1,\n",
       "       3, 0, 1, 3, 1, 0, 1, 1, 4, 0, 0, 0, 1, 0, 0, 1, 3, 2, 3, 3, 1, 1,\n",
       "       3, 3, 2, 0, 0, 0, 1, 0, 1, 0, 1, 0, 1, 1, 1, 1, 1, 0, 1, 3, 1, 1,\n",
       "       3, 3, 3, 1, 0, 0, 0, 0, 1, 1, 1, 1, 0, 1, 4, 1, 1, 0, 3, 0, 1, 1,\n",
       "       0, 0, 1, 0, 3, 0, 0, 1, 1, 0, 1, 3, 0, 0, 0, 0, 1, 1, 0, 3, 0, 4,\n",
       "       3, 0, 4, 0, 0, 0, 1, 3, 3, 3, 0, 3, 1, 4, 3, 1, 0, 0, 3, 2, 0, 1,\n",
       "       0, 1, 3, 1, 0, 4, 0, 2, 1, 1, 1, 3, 1, 1, 1, 1, 1, 1, 3, 3, 1, 3,\n",
       "       1, 1, 1, 1, 3, 1, 1, 4, 0, 1, 0, 0, 0, 1, 0, 0, 0, 0, 0, 1, 0, 0,\n",
       "       0, 3, 1, 0, 1, 1, 3, 0, 3, 3, 3, 0, 1, 0, 1, 4, 0, 4, 1, 4, 3, 1,\n",
       "       0, 1, 1, 0, 1, 4, 1, 0, 0, 1, 1, 0, 0, 0, 1, 1, 4, 1, 1, 0, 1, 1,\n",
       "       0, 3, 0, 0, 1, 1, 3, 1, 3, 4, 2, 0, 1, 3, 1, 1, 1, 3, 0, 0, 3, 0,\n",
       "       0, 0, 0, 0, 0, 4, 1, 1, 4, 0, 1, 4, 1, 0, 4, 0, 3, 4, 0, 0, 0, 1,\n",
       "       1, 0, 1, 0, 1, 1, 1, 0, 3, 0, 1, 1, 1, 4, 4, 4, 1, 0, 1, 4, 1, 0,\n",
       "       4, 1, 1, 1, 1, 1, 1, 1, 1, 1, 0, 3, 1, 3, 1, 1, 1, 1, 3, 0, 0, 0,\n",
       "       1], dtype=int32)"
      ]
     },
     "execution_count": 29,
     "metadata": {},
     "output_type": "execute_result"
    }
   ],
   "source": [
    "k=5\n",
    "kmeans = sk_cluster.KMeans(n_clusters=k, init='k-means++', max_iter=100, n_init=1)\n",
    "kmeans.fit_predict(X)"
   ]
  },
  {
   "cell_type": "code",
   "execution_count": 30,
   "metadata": {},
   "outputs": [
    {
     "name": "stdout",
     "output_type": "stream",
     "text": [
      "Top terms per cluster:\n",
      "Cluster 0:\n",
      " food\n",
      " bar\n",
      " place\n",
      " good\n",
      " drinks\n",
      " great\n",
      " beer\n",
      " menu\n",
      " night\n",
      " like\n",
      "Cluster 1:\n",
      " store\n",
      " like\n",
      " place\n",
      " service\n",
      " time\n",
      " just\n",
      " great\n",
      " staff\n",
      " good\n",
      " customer\n",
      "Cluster 2:\n",
      " dress\n",
      " dresses\n",
      " wedding\n",
      " store\n",
      " appointment\n",
      " experience\n",
      " like\n",
      " time\n",
      " service\n",
      " try\n",
      "Cluster 3:\n",
      " hair\n",
      " cut\n",
      " haircut\n",
      " salon\n",
      " barber\n",
      " stylist\n",
      " great\n",
      " time\n",
      " appointment\n",
      " place\n",
      "Cluster 4:\n",
      " nails\n",
      " nail\n",
      " shellac\n",
      " manicure\n",
      " pedicure\n",
      " polish\n",
      " salon\n",
      " mani\n",
      " pedi\n",
      " place\n"
     ]
    }
   ],
   "source": [
    "print(\"Top terms per cluster:\")\n",
    "asc_order_centroids = kmeans.cluster_centers_.argsort()#[:, ::-1]\n",
    "order_centroids = asc_order_centroids[:,::-1]\n",
    "terms = vectorizer.get_feature_names()\n",
    "for i in range(k):\n",
    "    print (\"Cluster %d:\" % i)\n",
    "    for ind in order_centroids[i, :10]:\n",
    "        print (' %s' % terms[ind])"
   ]
  },
  {
   "cell_type": "code",
   "execution_count": 31,
   "metadata": {},
   "outputs": [
    {
     "name": "stdout",
     "output_type": "stream",
     "text": [
      "[[246   3  76]\n",
      " [  7 241   1]\n",
      " [  8   1 166]]\n",
      "[0.75692308 0.96787149 0.94857143]\n",
      "[0.94252874 0.98367347 0.68312757]\n",
      "0.8881018615166957\n",
      "0.8718291054739653\n"
     ]
    }
   ],
   "source": [
    "mapped_kmeans_labels,C = cluster_class_mapping(kmeans.labels_,true_labels)\n",
    "print(C)\n",
    "scores(true_labels,mapped_kmeans_labels)"
   ]
  },
  {
   "cell_type": "code",
   "execution_count": 32,
   "metadata": {},
   "outputs": [
    {
     "name": "stdout",
     "output_type": "stream",
     "text": [
      "[[0.00422616 0.02289625 0.00234537 ... 0.00436537 0.00637513 0.0088938 ]\n",
      " [0.00512547 0.01895462 0.01187435 ... 0.00729451 0.00762347 0.00088287]\n",
      " [0.00463382 0.00874662 0.01061631 ... 0.00753558 0.0051455  0.        ]\n",
      " [0.00448594 0.01648837 0.00685435 ... 0.0102945  0.00576658 0.00043383]\n",
      " [0.00776152 0.02127455 0.00650036 ... 0.00678726 0.00377151 0.0005602 ]]\n"
     ]
    }
   ],
   "source": [
    "print(kmeans.cluster_centers_)"
   ]
  },
  {
   "cell_type": "code",
   "execution_count": 33,
   "metadata": {},
   "outputs": [
    {
     "name": "stdout",
     "output_type": "stream",
     "text": [
      "[0.57350592 1.0245444  0.87814952 0.94295895 0.86936096 0.7415386\n",
      " 0.81650118 1.11422253 1.16968144 0.99011723]\n",
      "[[0.         0.57350592 1.0245444  0.87814952 0.94295895]\n",
      " [0.57350592 0.         0.86936096 0.7415386  0.81650118]\n",
      " [1.0245444  0.86936096 0.         1.11422253 1.16968144]\n",
      " [0.87814952 0.7415386  1.11422253 0.         0.99011723]\n",
      " [0.94295895 0.81650118 1.16968144 0.99011723 0.        ]]\n",
      "430.2666275390669\n"
     ]
    }
   ],
   "source": [
    "center_distances(kmeans)\n",
    "print(kmeans.inertia_)\n",
    "#print(distances_array[0,3])\n",
    "#print(distances_array[2,4])"
   ]
  },
  {
   "cell_type": "markdown",
   "metadata": {},
   "source": [
    "Έχοντας τρέξει το πείραμα (2) φαίνεται πως τα clusters που αφορούσαν τις κατηγορίες bar και beaty & Spa έχουν σπάσει σε δύο cluster η κάθε κατηγορία αντίστοιχα. Γεγονός είναι ότι βάση των δεδομένων που πήραμε από τις δύο μετρικές inertia και shilhouette score αυτός είναι και ο ιδανικός αριθμός για cluster για τα δεδομένα αυτά. Αυτό μπορεί να σημαίνει ότι λάθος προσπαθούμε να αντισοιχίσουμε τα δεδομένα αυτά σε τρείς μόνο ομάδες. Πιο συγκεκριμένα αν πάρεις μια επιχείρηση που ξέρουμε ότι ανοίκει στην κατηγορία bars ανήκει και σε άλλες κατηγορίες, οπότε θα υπάρχουν επιχειρήσεις της κατηγορίας bars από τα δεδομένα μας οι οποίες θα μοιάζουν πιο πολύ με άλλες επιχειρήσεις που ανήκουν στην κατηγορία bar και άλλες που θα μοιάζουν λιγότερο, και αυτή η διαφοροποίηση προκύπτει από τις επιπλέον κατηγορίες που ανήκει κάθε επιχείρηση. \n",
    "* Υποσημείωση : μπορεί ένα agglomerative clustering(treegram) να εμφανίσει αυτή την διαφοροποίηση που περιγράφω παραπάνω\n",
    "* Υποσημείωση 2 : η μετρική shilhouette score είναι μια ισχυρή ένδειξη ότι τα 5 κέντρα είναι κέντρα είναι μια πολύ καλή επιλογή ως προς των διαχορισμό των δεδομένων σε ομάδες που απέχουν αρκετά μεταξύ τους.\n",
    "* Υποσημείωση 3 : αν κοιτάξουμε τα top-terms από τα δύο cluster που αφορούν την κατηγορία bars θα δεί κανείς πως στο ένα από τα δύο cluster εμφανίζεται μέσα στα top-terms του η λέξη food ενώ στο άλλο όχι, αυτό μπορούμε να πούμε ότι είναι μια ένδειξη πως το cluster που φέρει στα top-terms τη λέξη food χαρακτηρίζεται και από μια επιπλέον κατηγορία αυτή της εστίασης. Αντίστοιχα τα cluster beaty & spa το ένα φαίνεται να φέρει χαρακτηριστηκά στα top-terms επιχειρήσεις που ασχολούνται περισσότερο με την κατηγορία nails manicure κλπ ενώ το άλλο φαίνεται να φέρει χαρακτηριστικά στα top-terms επιχειρήσεις που ασχολούνται περισσότερο με την κατηγορία hairstyling grooming κλπ. \n",
    "Συμπερασματικά το clustering που κάνει ο k-means για 5 κέντρα δεν είναι κακό. Λάθος είναι οι κατηγορίες που διαλέξαμε εμείς."
   ]
  }
 ],
 "metadata": {
  "kernelspec": {
   "display_name": "Python 3",
   "language": "python",
   "name": "python3"
  },
  "language_info": {
   "codemirror_mode": {
    "name": "ipython",
    "version": 3
   },
   "file_extension": ".py",
   "mimetype": "text/x-python",
   "name": "python",
   "nbconvert_exporter": "python",
   "pygments_lexer": "ipython3",
   "version": "3.7.4"
  }
 },
 "nbformat": 4,
 "nbformat_minor": 4
}
